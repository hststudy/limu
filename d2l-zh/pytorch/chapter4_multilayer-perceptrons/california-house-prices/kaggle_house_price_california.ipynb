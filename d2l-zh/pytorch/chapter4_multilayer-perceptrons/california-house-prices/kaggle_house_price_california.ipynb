{
 "cells": [
  {
   "cell_type": "markdown",
   "source": [
    "# California House Prices\n",
    "数据特点：\n",
    "前半年用于train data, 后半年前半部分用于public test，后半部分用于Kaggle private test. (以后学习时序性数据的处理可以加上时序影响)\n",
    "https://www.kaggle.com/competitions/california-house-prices/overview"
   ],
   "metadata": {
    "collapsed": false
   },
   "id": "a2bfebea661efecb"
  },
  {
   "cell_type": "markdown",
   "source": [
    "12345"
   ],
   "metadata": {
    "collapsed": false
   },
   "id": "cbe506f3f2db1b7b"
  },
  {
   "cell_type": "markdown",
   "source": [
    "数据分析：\n",
    "- id: the house ID\n",
    "- Address: all valid\n",
    "- Sold Price\n",
    "- Summary: text description, *drop\n",
    "- Type: SingleFamily, Condo, and other\n",
    "- Year built:\n",
    "- Heating: Central, [null], other\n",
    "- cooling:Central Air, None, other\n",
    "- Parking: Garage-Attached, (Garage,Garage - Attached, Covered), Other\n",
    "- Lot: 占地面积\n",
    "- Bedrooms:3, 4, other\n",
    "- Bathrooms\n",
    "- Full bathrooms\n",
    "- Total interior livable area\n",
    "- Total spaces\n",
    "- Garage spaces\n",
    "- Region\n",
    "- Elementary School\n",
    "- Elementary School Score\n",
    "- Elementary School Distance\n",
    "- Middle School\n",
    "- Middle School Score\n",
    "- Middle School Distance\n",
    "- High School\n",
    "- High School Score\n",
    "- High School Distance\n",
    "- Flooring\n",
    "- Heating features\n",
    "- Cooling features\n",
    "- Appliances included\n",
    "- Laundry features\n",
    "- Parking features\n",
    "- Tax assessed value\n",
    "- Annual tax amount\n",
    "- listed On: 挂牌时间\n",
    "- listed Price:挂牌价格，跟实际成交价格相差不是太远，是强信号。\n",
    "- last Sold On\n",
    "- last Sold Price\n",
    "- City\n",
    "- Zip\n",
    "- State"
   ],
   "metadata": {
    "collapsed": false
   },
   "id": "21d581f97657ae2b"
  },
  {
   "cell_type": "code",
   "execution_count": 2,
   "outputs": [],
   "source": [
    "import numpy as np\n",
    "import pandas as pd\n",
    "import matplotlib.pyplot as plt\n",
    "import torch\n",
    "from torch import nn\n",
    "from d2l import torch as d2l"
   ],
   "metadata": {
    "collapsed": false,
    "ExecuteTime": {
     "end_time": "2023-11-18T00:04:06.980207Z",
     "start_time": "2023-11-18T00:04:01.592260Z"
    }
   },
   "id": "3fec812777f692f"
  },
  {
   "cell_type": "code",
   "execution_count": 3,
   "id": "initial_id",
   "metadata": {
    "collapsed": true,
    "ExecuteTime": {
     "end_time": "2023-11-18T00:04:10.402854Z",
     "start_time": "2023-11-18T00:04:07.901479Z"
    }
   },
   "outputs": [
    {
     "data": {
      "text/plain": "((47439, 41), (31626, 40))"
     },
     "execution_count": 3,
     "metadata": {},
     "output_type": "execute_result"
    }
   ],
   "source": [
    "train_data = pd.read_csv('train.csv')\n",
    "test_data = pd.read_csv('test.csv')\n",
    "train_data.shape, test_data.shape"
   ]
  },
  {
   "cell_type": "code",
   "execution_count": 4,
   "outputs": [
    {
     "data": {
      "text/plain": "(79065, 39)"
     },
     "execution_count": 4,
     "metadata": {},
     "output_type": "execute_result"
    }
   ],
   "source": [
    "# remove id and sold price fields\n",
    "train_data_features = train_data.drop('Sold Price', axis=1)\n",
    "all_features = pd.concat((train_data_features.iloc[:, 1:], test_data.iloc[:, 1:]))\n",
    "all_features.shape"
   ],
   "metadata": {
    "collapsed": false,
    "ExecuteTime": {
     "end_time": "2023-11-18T00:04:13.485760Z",
     "start_time": "2023-11-18T00:04:13.244799Z"
    }
   },
   "id": "972f2c5892f4b14b"
  },
  {
   "cell_type": "code",
   "execution_count": 5,
   "outputs": [
    {
     "data": {
      "text/plain": "(79065, 27)"
     },
     "execution_count": 5,
     "metadata": {},
     "output_type": "execute_result"
    }
   ],
   "source": [
    "columns_to_drop = ['Address', 'Summary', 'Heating', 'Cooling', 'Parking', 'Elementary School', 'Middle School', 'High School', 'City', 'Listed On', 'Last Sold On', 'Zip']\n",
    "all_features_drop = all_features.drop(columns_to_drop, axis=1)\n",
    "all_features_drop.shape"
   ],
   "metadata": {
    "collapsed": false,
    "ExecuteTime": {
     "end_time": "2023-11-18T00:04:15.486941Z",
     "start_time": "2023-11-18T00:04:15.361008Z"
    }
   },
   "id": "fac1f28447aed64"
  },
  {
   "cell_type": "code",
   "execution_count": null,
   "outputs": [],
   "source": [
    "#如何对于极度右偏的数据进行绘制图形\n",
    "all_features['Tax assessed value'].replace([np.inf, -np.inf], np.nan, inplace=True)\n",
    "all_features['Tax assessed value'].fillna(0)\n",
    "#all_features['Elementary School Distance'].dropna()\n",
    "cleaned_lot_data = all_features['Tax assessed value']\n",
    "# 对数据应用分位数裁剪\n",
    "q_low = cleaned_lot_data.quantile(0.01)\n",
    "q_high = cleaned_lot_data.quantile(0.99)\n",
    "filtered_data = cleaned_lot_data[(cleaned_lot_data > q_low) & (cleaned_lot_data < q_high)]\n",
    "plt.hist(filtered_data, bins=50, edgecolor='black')\n",
    "plt.show()"
   ],
   "metadata": {
    "collapsed": false
   },
   "id": "eba6f31a4e52e326"
  },
  {
   "cell_type": "markdown",
   "source": [
    "数据中很多列都是因为极端值导致明显右偏？即使log transformation仍旧没法让其均匀分布\n",
    "- 需要进行log变换的数据有Lot, total interior liveable area, Elementary School Distance, Middle School Distance, High School Distance, Tax assessed value, Annual tax amount, Listed Price, Last Sold Price\n",
    "- year built 有异常值（<1000, ==9999），将其转换成nan\n",
    "- Total spaces, garage spaces有异常负值，强制转换成nan。\n",
    "- 因为Bedroom中含有description(string),不能够进行数据标准化"
   ],
   "metadata": {
    "collapsed": false
   },
   "id": "3bb1eaa7ca826664"
  },
  {
   "cell_type": "markdown",
   "source": [
    "`np.log1p` 是 NumPy 库中的一个函数，它用于计算 1 加上一个数值后的自然对数，即 log(1 + x)。这个函数对于小数值非常有用，因为当 x 接近于零时，直接计算 log(1 + x) 可能会因为数值精度问题而不准确。\n",
    "在统计学和机器学习中，np.log1p 经常用于**处理右偏分布**（当大部分数据聚集在较小的数值区间，但也有一些非常大的数值时）。使用 np.log1p 可以帮助稳定大数值，减少数据的偏斜度，并使其更适合于各种统计模型和机器学习模型。\n",
    "`pd.to_numeric`: 这样会将 all_features_drop DataFrame 中的 'Bedrooms' 列转换为数值类型，如果有任何无法转换为数字的值（比如字符串），它们会被强制设置为 NaN。"
   ],
   "metadata": {
    "collapsed": false
   },
   "id": "3c6ca442c680dcb9"
  },
  {
   "cell_type": "code",
   "execution_count": 1,
   "outputs": [
    {
     "ename": "NameError",
     "evalue": "name 'all_features_drop' is not defined",
     "output_type": "error",
     "traceback": [
      "\u001B[0;31m---------------------------------------------------------------------------\u001B[0m",
      "\u001B[0;31mNameError\u001B[0m                                 Traceback (most recent call last)",
      "Cell \u001B[0;32mIn[1], line 1\u001B[0m\n\u001B[0;32m----> 1\u001B[0m stats \u001B[38;5;241m=\u001B[39m \u001B[43mall_features_drop\u001B[49m\u001B[38;5;241m.\u001B[39mdescribe()\n\u001B[1;32m      2\u001B[0m stats\n",
      "\u001B[0;31mNameError\u001B[0m: name 'all_features_drop' is not defined"
     ]
    }
   ],
   "source": [
    "stats = all_features_drop.describe()\n",
    "stats"
   ],
   "metadata": {
    "collapsed": false,
    "ExecuteTime": {
     "end_time": "2023-11-18T00:03:58.013007Z",
     "start_time": "2023-11-18T00:03:57.754327Z"
    }
   },
   "id": "2e39bf90f2ef9841"
  },
  {
   "cell_type": "code",
   "execution_count": 6,
   "outputs": [],
   "source": [
    "#replace null, <1000, 9999 value in the Year built with nan.\n",
    "all_features_drop.loc[(all_features_drop['Year built'] < 1000) | (all_features_drop['Year built'] == 9999), 'Year built'] = np.nan\n",
    "#bedrooms混合数据类型\n",
    "all_features_drop['Bedrooms'] = pd.to_numeric(all_features_drop['Bedrooms'], errors='coerce')\n",
    "#Total space, garage space < 0 to nan\n",
    "all_features_drop.loc[all_features['Total spaces'] < 0, 'Total spaces'] = np.nan\n",
    "all_features_drop.loc[all_features['Garage spaces'] < 0, 'Garage spaces'] = np.nan"
   ],
   "metadata": {
    "collapsed": false,
    "ExecuteTime": {
     "end_time": "2023-11-18T00:04:23.418882Z",
     "start_time": "2023-11-18T00:04:23.326963Z"
    }
   },
   "id": "35b77309de3069ee"
  },
  {
   "cell_type": "code",
   "execution_count": 7,
   "outputs": [],
   "source": [
    "numeric_features_right_skewed = ['Lot', 'Total interior livable area', 'Total spaces', 'Garage spaces', 'Elementary School Distance', 'Middle School Distance', 'High School Distance', 'Tax assessed value', 'Annual tax amount', 'Last Sold Price']\n",
    "all_features_drop[numeric_features_right_skewed].apply(np.log1p)\n",
    "all_features_drop[numeric_features_right_skewed] = all_features_drop[numeric_features_right_skewed].apply(\n",
    "    lambda x: (x - x.mean()) / (x.std()))\n",
    "all_features_drop[numeric_features_right_skewed] = all_features_drop[numeric_features_right_skewed].fillna(0)"
   ],
   "metadata": {
    "collapsed": false,
    "ExecuteTime": {
     "end_time": "2023-11-18T00:04:24.495715Z",
     "start_time": "2023-11-18T00:04:24.374247Z"
    }
   },
   "id": "bfe224289473073c"
  },
  {
   "cell_type": "code",
   "execution_count": 8,
   "outputs": [],
   "source": [
    "numeric_features = ['Year built', 'Bedrooms', 'Bathrooms', 'Full bathrooms', 'Elementary School Score', 'Middle School Score', 'High School Score', 'Listed Price']\n",
    "all_features_drop[numeric_features] = all_features_drop[numeric_features].apply(\n",
    "    lambda x: (x - x.mean()) / (x.std()))\n",
    "all_features_drop[numeric_features] = all_features_drop[numeric_features].fillna(0)"
   ],
   "metadata": {
    "collapsed": false,
    "ExecuteTime": {
     "end_time": "2023-11-18T00:04:25.742574Z",
     "start_time": "2023-11-18T00:04:25.640895Z"
    }
   },
   "id": "c182bf944d5d1554"
  },
  {
   "cell_type": "code",
   "execution_count": null,
   "outputs": [],
   "source": [
    "stats = all_features_drop.describe()\n",
    "stats"
   ],
   "metadata": {
    "collapsed": false
   },
   "id": "7d020aba65d3c50"
  },
  {
   "cell_type": "markdown",
   "source": [
    "如果使用 `df.join` 导致行数翻倍，这通常是因为要连接的 DataFrame（在您的例子中是 one_hot_encoded_state）的索引与 all_features DataFrame 的索引在某些行上不对齐。join 默认进行的是左连接，如果 one_hot_encoded_state 中的索引与 all_features 中的索引不完全匹配，那么 join 会尝试保留 all_features 中的所有行，并对于每个不匹配的索引添加新行，因此会导致行数增加。要解决这个问题，您需要确保在进行 join 操作前两个 DataFrame 有相同的索引。"
   ],
   "metadata": {
    "collapsed": false
   },
   "id": "cb2c4e877e6a6670"
  },
  {
   "cell_type": "code",
   "execution_count": 9,
   "outputs": [
    {
     "name": "stdout",
     "output_type": "stream",
     "text": [
      "[<class 'float'>]\n"
     ]
    }
   ],
   "source": [
    "#判断单列是否有多个数据类型，返回numpy.float64可能存在null值\n",
    "def check_mixed_types(df, column_name):\n",
    "    types = df[column_name].apply(type).unique()\n",
    "    return types\n",
    "\n",
    "types_in_column = check_mixed_types(all_features_drop, 'Last Sold Price')\n",
    "print(types_in_column)"
   ],
   "metadata": {
    "collapsed": false,
    "ExecuteTime": {
     "end_time": "2023-11-18T00:04:31.946979Z",
     "start_time": "2023-11-18T00:04:31.874935Z"
    }
   },
   "id": "baf8feaa54f96691"
  },
  {
   "cell_type": "code",
   "execution_count": 10,
   "outputs": [
    {
     "name": "stdout",
     "output_type": "stream",
     "text": [
      "Column: Type, Types: [<class 'str'>]\n",
      "Column: Year built, Types: [<class 'float'>]\n",
      "Column: Lot, Types: [<class 'float'>]\n",
      "Column: Bedrooms, Types: [<class 'float'>]\n",
      "Column: Bathrooms, Types: [<class 'float'>]\n",
      "Column: Full bathrooms, Types: [<class 'float'>]\n",
      "Column: Total interior livable area, Types: [<class 'float'>]\n",
      "Column: Total spaces, Types: [<class 'float'>]\n",
      "Column: Garage spaces, Types: [<class 'float'>]\n",
      "Column: Region, Types: [<class 'str'> <class 'float'>]\n",
      "Column: Elementary School Score, Types: [<class 'float'>]\n",
      "Column: Elementary School Distance, Types: [<class 'float'>]\n",
      "Column: Middle School Score, Types: [<class 'float'>]\n",
      "Column: Middle School Distance, Types: [<class 'float'>]\n",
      "Column: High School Score, Types: [<class 'float'>]\n",
      "Column: High School Distance, Types: [<class 'float'>]\n",
      "Column: Flooring, Types: [<class 'str'> <class 'float'>]\n",
      "Column: Heating features, Types: [<class 'str'> <class 'float'>]\n",
      "Column: Cooling features, Types: [<class 'str'> <class 'float'>]\n",
      "Column: Appliances included, Types: [<class 'str'> <class 'float'>]\n",
      "Column: Laundry features, Types: [<class 'str'> <class 'float'>]\n",
      "Column: Parking features, Types: [<class 'str'> <class 'float'>]\n",
      "Column: Tax assessed value, Types: [<class 'float'>]\n",
      "Column: Annual tax amount, Types: [<class 'float'>]\n",
      "Column: Listed Price, Types: [<class 'float'>]\n",
      "Column: Last Sold Price, Types: [<class 'float'>]\n",
      "Column: State, Types: [<class 'str'>]\n"
     ]
    }
   ],
   "source": [
    "def check_mixed_types(df):\n",
    "    # 创建一个字典来保存每列的数据类型\n",
    "    column_types = {}\n",
    "    for column in df.columns:\n",
    "        # 获取每列的数据类型\n",
    "        types = df[column].apply(type).unique()\n",
    "        # 将结果存储在字典中\n",
    "        column_types[column] = types\n",
    "    return column_types\n",
    "\n",
    "#判断单列是否有多个数据类型，返回numpy.float64可能存在null值\n",
    "mixed_types = check_mixed_types(all_features_drop)\n",
    "for column, types in mixed_types.items():\n",
    "    print(f\"Column: {column}, Types: {types}\")"
   ],
   "metadata": {
    "collapsed": false,
    "ExecuteTime": {
     "end_time": "2023-11-18T00:04:41.681093Z",
     "start_time": "2023-11-18T00:04:41.370017Z"
    }
   },
   "id": "9c2dba15b53988bb"
  },
  {
   "cell_type": "code",
   "execution_count": 11,
   "outputs": [
    {
     "data": {
      "text/plain": "(79065, 29)"
     },
     "execution_count": 11,
     "metadata": {},
     "output_type": "execute_result"
    }
   ],
   "source": [
    "#state有一个异常数字，需要强制将其转换成nan\n",
    "all_features_drop['State'] = all_features_drop['State'].apply(lambda x: x if isinstance(x, str) else np.nan)\n",
    "one_hot_encoded_state = pd.get_dummies(all_features_drop['State'], dummy_na=True)\n",
    "#如果使用df.join行数会翻倍，请思考原因\n",
    "all_features_state = pd.concat([all_features_drop.drop('State', axis=1), one_hot_encoded_state], axis=1)\n",
    "all_features_state.shape"
   ],
   "metadata": {
    "collapsed": false,
    "ExecuteTime": {
     "end_time": "2023-11-18T00:05:23.062624Z",
     "start_time": "2023-11-18T00:05:22.980438Z"
    }
   },
   "id": "c0d09f5ee69a87e6"
  },
  {
   "cell_type": "markdown",
   "source": [
    "`.apply(set)`: 最后，apply 函数对上一步得到的字符串列表应用 set 函数，将列表转换成集合。集合是一个不包含重复元素的无序集合，这意味着如果原字符串中有重复的房屋类型描述（经过分割后），它们将被合并成一个。\n",
    "这两行代码是使用 `sklearn`（scikit-learn库）的 `MultiLabelBinarizer` 类对房屋类型数据进行独热编码的步骤。\n",
    "1. `mlb = MultiLabelBinarizer()`: 这一行创建了 `MultiLabelBinarizer` 的一个实例，并将其赋值给变量 `mlb`。`MultiLabelBinarizer` 是一个预处理类，用于将包含多标签的数据转换成独热编码（One-Hot Encoding）的形式。多标签数据是指数据的每个样本可以同时拥有多个标签，例如一个房屋可以同时被分类为 \"Condo\" 和 \"Townhouse\"。\n",
    "2. `one_hot_encoded_house_type = mlb.fit_transform(all_features['HouseType'])`: 这一行调用 `mlb` 实例的 `fit_transform` 方法，将 `all_features` 数据框中的 `HouseType` 列转换为独热编码的形式。`fit_transform` 方法实际上执行了两个操作：\n",
    "    - `fit`：确定数据中所有的不同标签，并为每个标签建立索引。\n",
    "    - `transform`：将每个样本的标签转换为一个独热编码的向量，向量的长度等于所有不同标签的数量，向量中的每个元素对应一个标签，如果样本具有该标签，则对应位置为1，否则为0。\n",
    "这两行代码的结果 `one_hot_encoded_house_type` 将是一个NumPy数组，其中每一行对应 `all_features['HouseType']` 中的一个样本，每一列对应一个可能的标签，如果原始数据中的集合包含某个标签，则该列的值为1，否则为0。"
   ],
   "metadata": {
    "collapsed": false
   },
   "id": "75ffbdc7e9886c13"
  },
  {
   "cell_type": "code",
   "execution_count": 12,
   "outputs": [
    {
     "data": {
      "text/plain": "(79065, 115)"
     },
     "execution_count": 12,
     "metadata": {},
     "output_type": "execute_result"
    }
   ],
   "source": [
    "from sklearn.preprocessing import MultiLabelBinarizer\n",
    "\n",
    "def encode_object_column(df, column_name):\n",
    "    # 复制DataFrame以避免修改原始数据\n",
    "    df = df.copy()\n",
    "    # 处理列，将非字符串替换为空列表，字符串则分割\n",
    "    df[column_name] = df[column_name].apply(lambda x: x.replace(' ', '').split(',') if isinstance(x, str) else [])  \n",
    "    mlb = MultiLabelBinarizer()  \n",
    "    # 对列进行独热编码，忽略NaN（空列表）\n",
    "    one_hot_encoded = mlb.fit_transform(df[column_name])\n",
    "    # 将独热编码结果转换为DataFrame\n",
    "    one_hot_encoded_df = pd.DataFrame(one_hot_encoded, columns=mlb.classes_)  \n",
    "    df.drop(column_name, axis=1, inplace=True)\n",
    "    # 合并原始DataFrame和独热编码DataFrame\n",
    "    # 重置索引以确保无重复\n",
    "    df.reset_index(drop=True, inplace=True)\n",
    "    one_hot_encoded_df.reset_index(drop=True, inplace=True)\n",
    "    df = pd.concat([df, one_hot_encoded_df], axis=1)\n",
    "    return df\n",
    "\n",
    "# 应用函数到DataFrame\n",
    "all_features_type = encode_object_column(all_features_state, 'Type')\n",
    "all_features_type.shape"
   ],
   "metadata": {
    "collapsed": false,
    "ExecuteTime": {
     "end_time": "2023-11-18T00:05:37.365977Z",
     "start_time": "2023-11-18T00:05:35.432106Z"
    }
   },
   "id": "70ac783127577d16"
  },
  {
   "cell_type": "code",
   "execution_count": 13,
   "outputs": [
    {
     "data": {
      "text/plain": "(79065, 208)"
     },
     "execution_count": 13,
     "metadata": {},
     "output_type": "execute_result"
    }
   ],
   "source": [
    "all_features_floor = encode_object_column(all_features_type, 'Flooring')\n",
    "all_features_floor.shape"
   ],
   "metadata": {
    "collapsed": false,
    "ExecuteTime": {
     "end_time": "2023-11-18T00:05:38.606743Z",
     "start_time": "2023-11-18T00:05:38.128252Z"
    }
   },
   "id": "bd5bb410eb0c47cd"
  },
  {
   "cell_type": "code",
   "execution_count": 14,
   "outputs": [
    {
     "data": {
      "text/plain": "(79065, 289)"
     },
     "execution_count": 14,
     "metadata": {},
     "output_type": "execute_result"
    }
   ],
   "source": [
    "all_features_heat = encode_object_column(all_features_floor, 'Heating features')\n",
    "all_features_heat.shape"
   ],
   "metadata": {
    "collapsed": false,
    "ExecuteTime": {
     "end_time": "2023-11-18T00:05:40.206466Z",
     "start_time": "2023-11-18T00:05:39.349004Z"
    }
   },
   "id": "c5c4715a44769867"
  },
  {
   "cell_type": "code",
   "execution_count": 15,
   "outputs": [
    {
     "data": {
      "text/plain": "(79065, 369)"
     },
     "execution_count": 15,
     "metadata": {},
     "output_type": "execute_result"
    }
   ],
   "source": [
    "all_features_cool = encode_object_column(all_features_heat, 'Cooling features')\n",
    "all_features_cool.shape"
   ],
   "metadata": {
    "collapsed": false,
    "ExecuteTime": {
     "end_time": "2023-11-18T00:05:42.108244Z",
     "start_time": "2023-11-18T00:05:40.847472Z"
    }
   },
   "id": "3a81e3f951e670ad"
  },
  {
   "cell_type": "code",
   "execution_count": 16,
   "outputs": [
    {
     "data": {
      "text/plain": "(79065, 463)"
     },
     "execution_count": 16,
     "metadata": {},
     "output_type": "execute_result"
    }
   ],
   "source": [
    "all_features_appliances = encode_object_column(all_features_cool, 'Appliances included')\n",
    "all_features_appliances.shape"
   ],
   "metadata": {
    "collapsed": false,
    "ExecuteTime": {
     "end_time": "2023-11-18T00:05:44.412667Z",
     "start_time": "2023-11-18T00:05:42.785477Z"
    }
   },
   "id": "1c2dc01c5399fd76"
  },
  {
   "cell_type": "code",
   "execution_count": 17,
   "outputs": [
    {
     "data": {
      "text/plain": "(79065, 618)"
     },
     "execution_count": 17,
     "metadata": {},
     "output_type": "execute_result"
    }
   ],
   "source": [
    "all_features_laundry = encode_object_column(all_features_appliances, 'Laundry features')\n",
    "all_features_laundry.shape"
   ],
   "metadata": {
    "collapsed": false,
    "ExecuteTime": {
     "end_time": "2023-11-18T00:05:46.846073Z",
     "start_time": "2023-11-18T00:05:45.115721Z"
    }
   },
   "id": "51a2d26497eb6885"
  },
  {
   "cell_type": "code",
   "execution_count": 18,
   "outputs": [
    {
     "data": {
      "text/plain": "(79065, 779)"
     },
     "execution_count": 18,
     "metadata": {},
     "output_type": "execute_result"
    }
   ],
   "source": [
    "all_features_park = encode_object_column(all_features_laundry, 'Parking features')\n",
    "all_features_park.shape"
   ],
   "metadata": {
    "collapsed": false,
    "ExecuteTime": {
     "end_time": "2023-11-18T00:05:49.718478Z",
     "start_time": "2023-11-18T00:05:47.576757Z"
    }
   },
   "id": "e4f4a6c7bab79ec0"
  },
  {
   "cell_type": "code",
   "execution_count": 19,
   "outputs": [
    {
     "data": {
      "text/plain": "(79065, 2036)"
     },
     "execution_count": 19,
     "metadata": {},
     "output_type": "execute_result"
    }
   ],
   "source": [
    "all_features_region = encode_object_column(all_features_park, 'Region')\n",
    "all_features_region.shape"
   ],
   "metadata": {
    "collapsed": false,
    "ExecuteTime": {
     "end_time": "2023-11-18T00:05:54.565Z",
     "start_time": "2023-11-18T00:05:50.458380Z"
    }
   },
   "id": "ba6048c916719d28"
  },
  {
   "cell_type": "code",
   "execution_count": 20,
   "outputs": [],
   "source": [
    "assert (train_data['Sold Price'] > 0).all()\n",
    "if np.isnan(all_features_region.values).any():\n",
    "    print(\"NaN values found in features!\")"
   ],
   "metadata": {
    "collapsed": false,
    "ExecuteTime": {
     "end_time": "2023-11-18T00:05:59.018028Z",
     "start_time": "2023-11-18T00:05:55.764110Z"
    }
   },
   "id": "c2b5f5868e5ba7ec"
  },
  {
   "cell_type": "code",
   "execution_count": 23,
   "outputs": [
    {
     "data": {
      "text/plain": "(torch.Size([47439, 2036]), torch.Size([31626, 2036]), torch.Size([47439, 1]))"
     },
     "execution_count": 23,
     "metadata": {},
     "output_type": "execute_result"
    }
   ],
   "source": [
    "n_train = train_data.shape[0]\n",
    "train_features = torch.tensor(all_features_region[:n_train].values, dtype=torch.float32)\n",
    "test_features = torch.tensor(all_features_region[n_train:].values, dtype=torch.float32)\n",
    "train_labels = torch.tensor(\n",
    "    train_data['Sold Price'].values.reshape(-1, 1), dtype=torch.float32\n",
    ")  \n",
    "train_features.shape, test_features.shape, train_labels.shape"
   ],
   "metadata": {
    "collapsed": false,
    "ExecuteTime": {
     "end_time": "2023-11-18T00:09:04.780567Z",
     "start_time": "2023-11-18T00:09:03.091076Z"
    }
   },
   "id": "d59aa710a83f9492"
  },
  {
   "cell_type": "code",
   "execution_count": 24,
   "outputs": [],
   "source": [
    "loss = nn.MSELoss()\n",
    "num_inputs = train_features.shape[1]\n",
    "\n",
    "net = nn.Sequential(\n",
    "    nn.Linear(num_inputs, 512),\n",
    "    nn.ReLU(),\n",
    "    nn.Dropout(0.2),\n",
    "    nn.Linear(512, 256),\n",
    "    nn.ReLu(),\n",
    "    nn.Dropout(0.5),\n",
    "    nn.Linear(256, 128),\n",
    "    nn.ReLU(),\n",
    "    nn.Linear(128, 1))\n",
    "\n",
    "def log_rmse(net, features, labels):\n",
    "    clipped_preds = torch.clamp(net(features), 1, float('inf'))\n",
    "    rmse = torch.sqrt(loss(torch.log(clipped_preds), torch.log(labels)))\n",
    "    return rmse.item()"
   ],
   "metadata": {
    "collapsed": false,
    "ExecuteTime": {
     "end_time": "2023-11-18T00:09:49.500130Z",
     "start_time": "2023-11-18T00:09:49.461074Z"
    }
   },
   "id": "733b943c7e44042b"
  },
  {
   "cell_type": "code",
   "execution_count": 25,
   "outputs": [],
   "source": [
    "def train(net, train_features, train_labels, test_features, test_labels, num_epochs, \n",
    "          learning_rate, weigt_decay, batch_size):\n",
    "    train_ls, test_ls = [], []\n",
    "    train_iter = d2l.load_array((train_features, train_labels), batch_size)\n",
    "    optimizer=torch.optim.Adam(net.parameters(),\n",
    "                               lr = learning_rate,\n",
    "                               weight_decay=weigt_decay)\n",
    "    for epoch in range(num_epochs):\n",
    "        for X, y in train_iter:\n",
    "            optimizer.zero_grad()\n",
    "            l = loss(net(X), y)\n",
    "            l.backward()\n",
    "            optimizer.step()\n",
    "        train_ls.append(log_rmse(net, train_features, train_labels))\n",
    "        if test_labels is not None:\n",
    "            test_ls.append(log_rmse(net, test_features, test_labels))\n",
    "    return train_ls, test_ls"
   ],
   "metadata": {
    "collapsed": false,
    "ExecuteTime": {
     "end_time": "2023-11-18T00:09:50.967076Z",
     "start_time": "2023-11-18T00:09:50.936492Z"
    }
   },
   "id": "ff25c988cfb459d9"
  },
  {
   "cell_type": "code",
   "execution_count": 26,
   "outputs": [],
   "source": [
    "def get_k_fold_data(k, i, X, y):\n",
    "    assert k > 1\n",
    "    fold_size = X.shape[0] // k\n",
    "    X_train, y_train = None, None\n",
    "    for j in range(k):                                 #注意下面调用时包含在for i in range(k)外循环内\n",
    "        idx = slice(j * fold_size, (j + 1) * fold_size)\n",
    "        X_part, y_part = X[idx, :], y[idx]\n",
    "        if j == i:\n",
    "            X_valid, y_valid = X_part, y_part\n",
    "        elif X_train is None:\n",
    "            X_train, y_train = X_part, y_part\n",
    "        else:\n",
    "            X_train = torch.cat([X_train, X_part], 0)\n",
    "            y_train = torch.cat([y_train, y_part], 0)\n",
    "    return X_train, y_train, X_valid, y_valid"
   ],
   "metadata": {
    "collapsed": false,
    "ExecuteTime": {
     "end_time": "2023-11-18T00:09:52.416763Z",
     "start_time": "2023-11-18T00:09:52.384872Z"
    }
   },
   "id": "ff7fd59ac74a3838"
  },
  {
   "cell_type": "code",
   "execution_count": 27,
   "outputs": [],
   "source": [
    "def k_fold(k, X_train, y_train, num_epochs, learning_rate, weight_decay,\n",
    "           batch_size):\n",
    "    train_l_sum, valid_l_sum = 0, 0\n",
    "    for i in range(k):\n",
    "        data = get_k_fold_data(k, i, X_train, y_train)\n",
    "        train_ls, valid_ls = train(net, *data, num_epochs, learning_rate,\n",
    "                                   weight_decay, batch_size)\n",
    "        train_l_sum += train_ls[-1]                 #每次分割后最后一次epoch返回的loss进行累加\n",
    "        valid_l_sum += valid_ls[-1]\n",
    "        if i == 0:\n",
    "            d2l.plot(list(range(1, num_epochs + 1)), [train_ls, valid_ls],\n",
    "                     xlabel='epoch', ylabel='rmse', xlim=[1, num_epochs],\n",
    "                     legend=['train', 'valid'], yscale='log')\n",
    "        print(f'折{i + 1}，训练log rmse{float(train_ls[-1]):f}, '\n",
    "              f'验证log rmse{float(valid_ls[-1]):f}')\n",
    "    return train_l_sum / k, valid_l_sum / k"
   ],
   "metadata": {
    "collapsed": false,
    "ExecuteTime": {
     "end_time": "2023-11-18T00:09:53.156459Z",
     "start_time": "2023-11-18T00:09:53.111894Z"
    }
   },
   "id": "5c6e3819519dcb82"
  },
  {
   "cell_type": "code",
   "execution_count": 32,
   "outputs": [
    {
     "name": "stdout",
     "output_type": "stream",
     "text": [
      "折1，训练log rmse0.316479, 验证log rmse0.329560\n",
      "折2，训练log rmse0.318040, 验证log rmse0.316000\n",
      "折3，训练log rmse0.319807, 验证log rmse0.302260\n",
      "折4，训练log rmse0.300042, 验证log rmse0.315751\n",
      "折5，训练log rmse0.291025, 验证log rmse0.339584\n",
      "5-折验证: 平均训练log rmse: 0.309078, 平均验证log rmse: 0.320631\n"
     ]
    },
    {
     "data": {
      "text/plain": "<Figure size 350x250 with 1 Axes>",
      "image/svg+xml": "<?xml version=\"1.0\" encoding=\"utf-8\" standalone=\"no\"?>\n<!DOCTYPE svg PUBLIC \"-//W3C//DTD SVG 1.1//EN\"\n  \"http://www.w3.org/Graphics/SVG/1.1/DTD/svg11.dtd\">\n<svg xmlns:xlink=\"http://www.w3.org/1999/xlink\" width=\"296.321875pt\" height=\"183.35625pt\" viewBox=\"0 0 296.321875 183.35625\" xmlns=\"http://www.w3.org/2000/svg\" version=\"1.1\">\n <metadata>\n  <rdf:RDF xmlns:dc=\"http://purl.org/dc/elements/1.1/\" xmlns:cc=\"http://creativecommons.org/ns#\" xmlns:rdf=\"http://www.w3.org/1999/02/22-rdf-syntax-ns#\">\n   <cc:Work>\n    <dc:type rdf:resource=\"http://purl.org/dc/dcmitype/StillImage\"/>\n    <dc:date>2023-11-17T19:57:04.376855</dc:date>\n    <dc:format>image/svg+xml</dc:format>\n    <dc:creator>\n     <cc:Agent>\n      <dc:title>Matplotlib v3.5.1, https://matplotlib.org/</dc:title>\n     </cc:Agent>\n    </dc:creator>\n   </cc:Work>\n  </rdf:RDF>\n </metadata>\n <defs>\n  <style type=\"text/css\">*{stroke-linejoin: round; stroke-linecap: butt}</style>\n </defs>\n <g id=\"figure_1\">\n  <g id=\"patch_1\">\n   <path d=\"M 0 183.35625 \nL 296.321875 183.35625 \nL 296.321875 0 \nL 0 0 \nz\n\" style=\"fill: #ffffff\"/>\n  </g>\n  <g id=\"axes_1\">\n   <g id=\"patch_2\">\n    <path d=\"M 84.278125 145.8 \nL 279.578125 145.8 \nL 279.578125 7.2 \nL 84.278125 7.2 \nz\n\" style=\"fill: #ffffff\"/>\n   </g>\n   <g id=\"matplotlib.axis_1\">\n    <g id=\"xtick_1\">\n     <g id=\"line2d_1\">\n      <path d=\"M 121.759943 145.8 \nL 121.759943 7.2 \n\" clip-path=\"url(#p02f379efc6)\" style=\"fill: none; stroke: #b0b0b0; stroke-width: 0.8; stroke-linecap: square\"/>\n     </g>\n     <g id=\"line2d_2\">\n      <defs>\n       <path id=\"m19db150d4b\" d=\"M 0 0 \nL 0 3.5 \n\" style=\"stroke: #000000; stroke-width: 0.8\"/>\n      </defs>\n      <g>\n       <use xlink:href=\"#m19db150d4b\" x=\"121.759943\" y=\"145.8\" style=\"stroke: #000000; stroke-width: 0.8\"/>\n      </g>\n     </g>\n     <g id=\"text_1\">\n      <!-- 20 -->\n      <g transform=\"translate(115.397443 160.398438)scale(0.1 -0.1)\">\n       <defs>\n        <path id=\"DejaVuSans-32\" d=\"M 1228 531 \nL 3431 531 \nL 3431 0 \nL 469 0 \nL 469 531 \nQ 828 903 1448 1529 \nQ 2069 2156 2228 2338 \nQ 2531 2678 2651 2914 \nQ 2772 3150 2772 3378 \nQ 2772 3750 2511 3984 \nQ 2250 4219 1831 4219 \nQ 1534 4219 1204 4116 \nQ 875 4013 500 3803 \nL 500 4441 \nQ 881 4594 1212 4672 \nQ 1544 4750 1819 4750 \nQ 2544 4750 2975 4387 \nQ 3406 4025 3406 3419 \nQ 3406 3131 3298 2873 \nQ 3191 2616 2906 2266 \nQ 2828 2175 2409 1742 \nQ 1991 1309 1228 531 \nz\n\" transform=\"scale(0.015625)\"/>\n        <path id=\"DejaVuSans-30\" d=\"M 2034 4250 \nQ 1547 4250 1301 3770 \nQ 1056 3291 1056 2328 \nQ 1056 1369 1301 889 \nQ 1547 409 2034 409 \nQ 2525 409 2770 889 \nQ 3016 1369 3016 2328 \nQ 3016 3291 2770 3770 \nQ 2525 4250 2034 4250 \nz\nM 2034 4750 \nQ 2819 4750 3233 4129 \nQ 3647 3509 3647 2328 \nQ 3647 1150 3233 529 \nQ 2819 -91 2034 -91 \nQ 1250 -91 836 529 \nQ 422 1150 422 2328 \nQ 422 3509 836 4129 \nQ 1250 4750 2034 4750 \nz\n\" transform=\"scale(0.015625)\"/>\n       </defs>\n       <use xlink:href=\"#DejaVuSans-32\"/>\n       <use xlink:href=\"#DejaVuSans-30\" x=\"63.623047\"/>\n      </g>\n     </g>\n    </g>\n    <g id=\"xtick_2\">\n     <g id=\"line2d_3\">\n      <path d=\"M 161.214489 145.8 \nL 161.214489 7.2 \n\" clip-path=\"url(#p02f379efc6)\" style=\"fill: none; stroke: #b0b0b0; stroke-width: 0.8; stroke-linecap: square\"/>\n     </g>\n     <g id=\"line2d_4\">\n      <g>\n       <use xlink:href=\"#m19db150d4b\" x=\"161.214489\" y=\"145.8\" style=\"stroke: #000000; stroke-width: 0.8\"/>\n      </g>\n     </g>\n     <g id=\"text_2\">\n      <!-- 40 -->\n      <g transform=\"translate(154.851989 160.398438)scale(0.1 -0.1)\">\n       <defs>\n        <path id=\"DejaVuSans-34\" d=\"M 2419 4116 \nL 825 1625 \nL 2419 1625 \nL 2419 4116 \nz\nM 2253 4666 \nL 3047 4666 \nL 3047 1625 \nL 3713 1625 \nL 3713 1100 \nL 3047 1100 \nL 3047 0 \nL 2419 0 \nL 2419 1100 \nL 313 1100 \nL 313 1709 \nL 2253 4666 \nz\n\" transform=\"scale(0.015625)\"/>\n       </defs>\n       <use xlink:href=\"#DejaVuSans-34\"/>\n       <use xlink:href=\"#DejaVuSans-30\" x=\"63.623047\"/>\n      </g>\n     </g>\n    </g>\n    <g id=\"xtick_3\">\n     <g id=\"line2d_5\">\n      <path d=\"M 200.669034 145.8 \nL 200.669034 7.2 \n\" clip-path=\"url(#p02f379efc6)\" style=\"fill: none; stroke: #b0b0b0; stroke-width: 0.8; stroke-linecap: square\"/>\n     </g>\n     <g id=\"line2d_6\">\n      <g>\n       <use xlink:href=\"#m19db150d4b\" x=\"200.669034\" y=\"145.8\" style=\"stroke: #000000; stroke-width: 0.8\"/>\n      </g>\n     </g>\n     <g id=\"text_3\">\n      <!-- 60 -->\n      <g transform=\"translate(194.306534 160.398438)scale(0.1 -0.1)\">\n       <defs>\n        <path id=\"DejaVuSans-36\" d=\"M 2113 2584 \nQ 1688 2584 1439 2293 \nQ 1191 2003 1191 1497 \nQ 1191 994 1439 701 \nQ 1688 409 2113 409 \nQ 2538 409 2786 701 \nQ 3034 994 3034 1497 \nQ 3034 2003 2786 2293 \nQ 2538 2584 2113 2584 \nz\nM 3366 4563 \nL 3366 3988 \nQ 3128 4100 2886 4159 \nQ 2644 4219 2406 4219 \nQ 1781 4219 1451 3797 \nQ 1122 3375 1075 2522 \nQ 1259 2794 1537 2939 \nQ 1816 3084 2150 3084 \nQ 2853 3084 3261 2657 \nQ 3669 2231 3669 1497 \nQ 3669 778 3244 343 \nQ 2819 -91 2113 -91 \nQ 1303 -91 875 529 \nQ 447 1150 447 2328 \nQ 447 3434 972 4092 \nQ 1497 4750 2381 4750 \nQ 2619 4750 2861 4703 \nQ 3103 4656 3366 4563 \nz\n\" transform=\"scale(0.015625)\"/>\n       </defs>\n       <use xlink:href=\"#DejaVuSans-36\"/>\n       <use xlink:href=\"#DejaVuSans-30\" x=\"63.623047\"/>\n      </g>\n     </g>\n    </g>\n    <g id=\"xtick_4\">\n     <g id=\"line2d_7\">\n      <path d=\"M 240.12358 145.8 \nL 240.12358 7.2 \n\" clip-path=\"url(#p02f379efc6)\" style=\"fill: none; stroke: #b0b0b0; stroke-width: 0.8; stroke-linecap: square\"/>\n     </g>\n     <g id=\"line2d_8\">\n      <g>\n       <use xlink:href=\"#m19db150d4b\" x=\"240.12358\" y=\"145.8\" style=\"stroke: #000000; stroke-width: 0.8\"/>\n      </g>\n     </g>\n     <g id=\"text_4\">\n      <!-- 80 -->\n      <g transform=\"translate(233.76108 160.398438)scale(0.1 -0.1)\">\n       <defs>\n        <path id=\"DejaVuSans-38\" d=\"M 2034 2216 \nQ 1584 2216 1326 1975 \nQ 1069 1734 1069 1313 \nQ 1069 891 1326 650 \nQ 1584 409 2034 409 \nQ 2484 409 2743 651 \nQ 3003 894 3003 1313 \nQ 3003 1734 2745 1975 \nQ 2488 2216 2034 2216 \nz\nM 1403 2484 \nQ 997 2584 770 2862 \nQ 544 3141 544 3541 \nQ 544 4100 942 4425 \nQ 1341 4750 2034 4750 \nQ 2731 4750 3128 4425 \nQ 3525 4100 3525 3541 \nQ 3525 3141 3298 2862 \nQ 3072 2584 2669 2484 \nQ 3125 2378 3379 2068 \nQ 3634 1759 3634 1313 \nQ 3634 634 3220 271 \nQ 2806 -91 2034 -91 \nQ 1263 -91 848 271 \nQ 434 634 434 1313 \nQ 434 1759 690 2068 \nQ 947 2378 1403 2484 \nz\nM 1172 3481 \nQ 1172 3119 1398 2916 \nQ 1625 2713 2034 2713 \nQ 2441 2713 2670 2916 \nQ 2900 3119 2900 3481 \nQ 2900 3844 2670 4047 \nQ 2441 4250 2034 4250 \nQ 1625 4250 1398 4047 \nQ 1172 3844 1172 3481 \nz\n\" transform=\"scale(0.015625)\"/>\n       </defs>\n       <use xlink:href=\"#DejaVuSans-38\"/>\n       <use xlink:href=\"#DejaVuSans-30\" x=\"63.623047\"/>\n      </g>\n     </g>\n    </g>\n    <g id=\"xtick_5\">\n     <g id=\"line2d_9\">\n      <path d=\"M 279.578125 145.8 \nL 279.578125 7.2 \n\" clip-path=\"url(#p02f379efc6)\" style=\"fill: none; stroke: #b0b0b0; stroke-width: 0.8; stroke-linecap: square\"/>\n     </g>\n     <g id=\"line2d_10\">\n      <g>\n       <use xlink:href=\"#m19db150d4b\" x=\"279.578125\" y=\"145.8\" style=\"stroke: #000000; stroke-width: 0.8\"/>\n      </g>\n     </g>\n     <g id=\"text_5\">\n      <!-- 100 -->\n      <g transform=\"translate(270.034375 160.398438)scale(0.1 -0.1)\">\n       <defs>\n        <path id=\"DejaVuSans-31\" d=\"M 794 531 \nL 1825 531 \nL 1825 4091 \nL 703 3866 \nL 703 4441 \nL 1819 4666 \nL 2450 4666 \nL 2450 531 \nL 3481 531 \nL 3481 0 \nL 794 0 \nL 794 531 \nz\n\" transform=\"scale(0.015625)\"/>\n       </defs>\n       <use xlink:href=\"#DejaVuSans-31\"/>\n       <use xlink:href=\"#DejaVuSans-30\" x=\"63.623047\"/>\n       <use xlink:href=\"#DejaVuSans-30\" x=\"127.246094\"/>\n      </g>\n     </g>\n    </g>\n    <g id=\"text_6\">\n     <!-- epoch -->\n     <g transform=\"translate(166.7 174.076563)scale(0.1 -0.1)\">\n      <defs>\n       <path id=\"DejaVuSans-65\" d=\"M 3597 1894 \nL 3597 1613 \nL 953 1613 \nQ 991 1019 1311 708 \nQ 1631 397 2203 397 \nQ 2534 397 2845 478 \nQ 3156 559 3463 722 \nL 3463 178 \nQ 3153 47 2828 -22 \nQ 2503 -91 2169 -91 \nQ 1331 -91 842 396 \nQ 353 884 353 1716 \nQ 353 2575 817 3079 \nQ 1281 3584 2069 3584 \nQ 2775 3584 3186 3129 \nQ 3597 2675 3597 1894 \nz\nM 3022 2063 \nQ 3016 2534 2758 2815 \nQ 2500 3097 2075 3097 \nQ 1594 3097 1305 2825 \nQ 1016 2553 972 2059 \nL 3022 2063 \nz\n\" transform=\"scale(0.015625)\"/>\n       <path id=\"DejaVuSans-70\" d=\"M 1159 525 \nL 1159 -1331 \nL 581 -1331 \nL 581 3500 \nL 1159 3500 \nL 1159 2969 \nQ 1341 3281 1617 3432 \nQ 1894 3584 2278 3584 \nQ 2916 3584 3314 3078 \nQ 3713 2572 3713 1747 \nQ 3713 922 3314 415 \nQ 2916 -91 2278 -91 \nQ 1894 -91 1617 61 \nQ 1341 213 1159 525 \nz\nM 3116 1747 \nQ 3116 2381 2855 2742 \nQ 2594 3103 2138 3103 \nQ 1681 3103 1420 2742 \nQ 1159 2381 1159 1747 \nQ 1159 1113 1420 752 \nQ 1681 391 2138 391 \nQ 2594 391 2855 752 \nQ 3116 1113 3116 1747 \nz\n\" transform=\"scale(0.015625)\"/>\n       <path id=\"DejaVuSans-6f\" d=\"M 1959 3097 \nQ 1497 3097 1228 2736 \nQ 959 2375 959 1747 \nQ 959 1119 1226 758 \nQ 1494 397 1959 397 \nQ 2419 397 2687 759 \nQ 2956 1122 2956 1747 \nQ 2956 2369 2687 2733 \nQ 2419 3097 1959 3097 \nz\nM 1959 3584 \nQ 2709 3584 3137 3096 \nQ 3566 2609 3566 1747 \nQ 3566 888 3137 398 \nQ 2709 -91 1959 -91 \nQ 1206 -91 779 398 \nQ 353 888 353 1747 \nQ 353 2609 779 3096 \nQ 1206 3584 1959 3584 \nz\n\" transform=\"scale(0.015625)\"/>\n       <path id=\"DejaVuSans-63\" d=\"M 3122 3366 \nL 3122 2828 \nQ 2878 2963 2633 3030 \nQ 2388 3097 2138 3097 \nQ 1578 3097 1268 2742 \nQ 959 2388 959 1747 \nQ 959 1106 1268 751 \nQ 1578 397 2138 397 \nQ 2388 397 2633 464 \nQ 2878 531 3122 666 \nL 3122 134 \nQ 2881 22 2623 -34 \nQ 2366 -91 2075 -91 \nQ 1284 -91 818 406 \nQ 353 903 353 1747 \nQ 353 2603 823 3093 \nQ 1294 3584 2113 3584 \nQ 2378 3584 2631 3529 \nQ 2884 3475 3122 3366 \nz\n\" transform=\"scale(0.015625)\"/>\n       <path id=\"DejaVuSans-68\" d=\"M 3513 2113 \nL 3513 0 \nL 2938 0 \nL 2938 2094 \nQ 2938 2591 2744 2837 \nQ 2550 3084 2163 3084 \nQ 1697 3084 1428 2787 \nQ 1159 2491 1159 1978 \nL 1159 0 \nL 581 0 \nL 581 4863 \nL 1159 4863 \nL 1159 2956 \nQ 1366 3272 1645 3428 \nQ 1925 3584 2291 3584 \nQ 2894 3584 3203 3211 \nQ 3513 2838 3513 2113 \nz\n\" transform=\"scale(0.015625)\"/>\n      </defs>\n      <use xlink:href=\"#DejaVuSans-65\"/>\n      <use xlink:href=\"#DejaVuSans-70\" x=\"61.523438\"/>\n      <use xlink:href=\"#DejaVuSans-6f\" x=\"125\"/>\n      <use xlink:href=\"#DejaVuSans-63\" x=\"186.181641\"/>\n      <use xlink:href=\"#DejaVuSans-68\" x=\"241.162109\"/>\n     </g>\n    </g>\n   </g>\n   <g id=\"matplotlib.axis_2\">\n    <g id=\"ytick_1\">\n     <g id=\"line2d_11\">\n      <defs>\n       <path id=\"m2e61a5c5cb\" d=\"M 0 0 \nL -2 0 \n\" style=\"stroke: #000000; stroke-width: 0.6\"/>\n      </defs>\n      <g>\n       <use xlink:href=\"#m2e61a5c5cb\" x=\"84.278125\" y=\"138.875418\" style=\"stroke: #000000; stroke-width: 0.6\"/>\n      </g>\n     </g>\n     <g id=\"text_7\">\n      <!-- $\\mathdefault{3.16\\times10^{-1}}$ -->\n      <g transform=\"translate(20.878125 142.674637)scale(0.1 -0.1)\">\n       <defs>\n        <path id=\"DejaVuSans-33\" d=\"M 2597 2516 \nQ 3050 2419 3304 2112 \nQ 3559 1806 3559 1356 \nQ 3559 666 3084 287 \nQ 2609 -91 1734 -91 \nQ 1441 -91 1130 -33 \nQ 819 25 488 141 \nL 488 750 \nQ 750 597 1062 519 \nQ 1375 441 1716 441 \nQ 2309 441 2620 675 \nQ 2931 909 2931 1356 \nQ 2931 1769 2642 2001 \nQ 2353 2234 1838 2234 \nL 1294 2234 \nL 1294 2753 \nL 1863 2753 \nQ 2328 2753 2575 2939 \nQ 2822 3125 2822 3475 \nQ 2822 3834 2567 4026 \nQ 2313 4219 1838 4219 \nQ 1578 4219 1281 4162 \nQ 984 4106 628 3988 \nL 628 4550 \nQ 988 4650 1302 4700 \nQ 1616 4750 1894 4750 \nQ 2613 4750 3031 4423 \nQ 3450 4097 3450 3541 \nQ 3450 3153 3228 2886 \nQ 3006 2619 2597 2516 \nz\n\" transform=\"scale(0.015625)\"/>\n        <path id=\"DejaVuSans-2e\" d=\"M 684 794 \nL 1344 794 \nL 1344 0 \nL 684 0 \nL 684 794 \nz\n\" transform=\"scale(0.015625)\"/>\n        <path id=\"DejaVuSans-d7\" d=\"M 4488 3438 \nL 3059 2003 \nL 4488 575 \nL 4116 197 \nL 2681 1631 \nL 1247 197 \nL 878 575 \nL 2303 2003 \nL 878 3438 \nL 1247 3816 \nL 2681 2381 \nL 4116 3816 \nL 4488 3438 \nz\n\" transform=\"scale(0.015625)\"/>\n        <path id=\"DejaVuSans-2212\" d=\"M 678 2272 \nL 4684 2272 \nL 4684 1741 \nL 678 1741 \nL 678 2272 \nz\n\" transform=\"scale(0.015625)\"/>\n       </defs>\n       <use xlink:href=\"#DejaVuSans-33\" transform=\"translate(0 0.684375)\"/>\n       <use xlink:href=\"#DejaVuSans-2e\" transform=\"translate(63.623047 0.684375)\"/>\n       <use xlink:href=\"#DejaVuSans-31\" transform=\"translate(95.410156 0.684375)\"/>\n       <use xlink:href=\"#DejaVuSans-36\" transform=\"translate(159.033203 0.684375)\"/>\n       <use xlink:href=\"#DejaVuSans-d7\" transform=\"translate(242.138672 0.684375)\"/>\n       <use xlink:href=\"#DejaVuSans-31\" transform=\"translate(345.410156 0.684375)\"/>\n       <use xlink:href=\"#DejaVuSans-30\" transform=\"translate(409.033203 0.684375)\"/>\n       <use xlink:href=\"#DejaVuSans-2212\" transform=\"translate(473.613281 38.965625)scale(0.7)\"/>\n       <use xlink:href=\"#DejaVuSans-31\" transform=\"translate(532.265625 38.965625)scale(0.7)\"/>\n      </g>\n     </g>\n    </g>\n    <g id=\"ytick_2\">\n     <g id=\"line2d_12\">\n      <g>\n       <use xlink:href=\"#m2e61a5c5cb\" x=\"84.278125\" y=\"120.270086\" style=\"stroke: #000000; stroke-width: 0.6\"/>\n      </g>\n     </g>\n     <g id=\"text_8\">\n      <!-- $\\mathdefault{3.18\\times10^{-1}}$ -->\n      <g transform=\"translate(20.878125 124.069305)scale(0.1 -0.1)\">\n       <use xlink:href=\"#DejaVuSans-33\" transform=\"translate(0 0.684375)\"/>\n       <use xlink:href=\"#DejaVuSans-2e\" transform=\"translate(63.623047 0.684375)\"/>\n       <use xlink:href=\"#DejaVuSans-31\" transform=\"translate(95.410156 0.684375)\"/>\n       <use xlink:href=\"#DejaVuSans-38\" transform=\"translate(159.033203 0.684375)\"/>\n       <use xlink:href=\"#DejaVuSans-d7\" transform=\"translate(242.138672 0.684375)\"/>\n       <use xlink:href=\"#DejaVuSans-31\" transform=\"translate(345.410156 0.684375)\"/>\n       <use xlink:href=\"#DejaVuSans-30\" transform=\"translate(409.033203 0.684375)\"/>\n       <use xlink:href=\"#DejaVuSans-2212\" transform=\"translate(473.613281 38.965625)scale(0.7)\"/>\n       <use xlink:href=\"#DejaVuSans-31\" transform=\"translate(532.265625 38.965625)scale(0.7)\"/>\n      </g>\n     </g>\n    </g>\n    <g id=\"ytick_3\">\n     <g id=\"line2d_13\">\n      <g>\n       <use xlink:href=\"#m2e61a5c5cb\" x=\"84.278125\" y=\"101.781403\" style=\"stroke: #000000; stroke-width: 0.6\"/>\n      </g>\n     </g>\n     <g id=\"text_9\">\n      <!-- $\\mathdefault{3.2\\times10^{-1}}$ -->\n      <g transform=\"translate(27.778125 105.580622)scale(0.1 -0.1)\">\n       <use xlink:href=\"#DejaVuSans-33\" transform=\"translate(0 0.684375)\"/>\n       <use xlink:href=\"#DejaVuSans-2e\" transform=\"translate(63.623047 0.684375)\"/>\n       <use xlink:href=\"#DejaVuSans-32\" transform=\"translate(89.910156 0.684375)\"/>\n       <use xlink:href=\"#DejaVuSans-d7\" transform=\"translate(173.015625 0.684375)\"/>\n       <use xlink:href=\"#DejaVuSans-31\" transform=\"translate(276.287109 0.684375)\"/>\n       <use xlink:href=\"#DejaVuSans-30\" transform=\"translate(339.910156 0.684375)\"/>\n       <use xlink:href=\"#DejaVuSans-2212\" transform=\"translate(404.490234 38.965625)scale(0.7)\"/>\n       <use xlink:href=\"#DejaVuSans-31\" transform=\"translate(463.142578 38.965625)scale(0.7)\"/>\n      </g>\n     </g>\n    </g>\n    <g id=\"ytick_4\">\n     <g id=\"line2d_14\">\n      <g>\n       <use xlink:href=\"#m2e61a5c5cb\" x=\"84.278125\" y=\"83.407915\" style=\"stroke: #000000; stroke-width: 0.6\"/>\n      </g>\n     </g>\n     <g id=\"text_10\">\n      <!-- $\\mathdefault{3.22\\times10^{-1}}$ -->\n      <g transform=\"translate(21.378125 87.207134)scale(0.1 -0.1)\">\n       <use xlink:href=\"#DejaVuSans-33\" transform=\"translate(0 0.684375)\"/>\n       <use xlink:href=\"#DejaVuSans-2e\" transform=\"translate(63.623047 0.684375)\"/>\n       <use xlink:href=\"#DejaVuSans-32\" transform=\"translate(89.910156 0.684375)\"/>\n       <use xlink:href=\"#DejaVuSans-32\" transform=\"translate(153.533203 0.684375)\"/>\n       <use xlink:href=\"#DejaVuSans-d7\" transform=\"translate(236.638672 0.684375)\"/>\n       <use xlink:href=\"#DejaVuSans-31\" transform=\"translate(339.910156 0.684375)\"/>\n       <use xlink:href=\"#DejaVuSans-30\" transform=\"translate(403.533203 0.684375)\"/>\n       <use xlink:href=\"#DejaVuSans-2212\" transform=\"translate(468.113281 38.965625)scale(0.7)\"/>\n       <use xlink:href=\"#DejaVuSans-31\" transform=\"translate(526.765625 38.965625)scale(0.7)\"/>\n      </g>\n     </g>\n    </g>\n    <g id=\"ytick_5\">\n     <g id=\"line2d_15\">\n      <g>\n       <use xlink:href=\"#m2e61a5c5cb\" x=\"84.278125\" y=\"65.148196\" style=\"stroke: #000000; stroke-width: 0.6\"/>\n      </g>\n     </g>\n     <g id=\"text_11\">\n      <!-- $\\mathdefault{3.24\\times10^{-1}}$ -->\n      <g transform=\"translate(21.378125 68.947415)scale(0.1 -0.1)\">\n       <use xlink:href=\"#DejaVuSans-33\" transform=\"translate(0 0.684375)\"/>\n       <use xlink:href=\"#DejaVuSans-2e\" transform=\"translate(63.623047 0.684375)\"/>\n       <use xlink:href=\"#DejaVuSans-32\" transform=\"translate(89.910156 0.684375)\"/>\n       <use xlink:href=\"#DejaVuSans-34\" transform=\"translate(153.533203 0.684375)\"/>\n       <use xlink:href=\"#DejaVuSans-d7\" transform=\"translate(236.638672 0.684375)\"/>\n       <use xlink:href=\"#DejaVuSans-31\" transform=\"translate(339.910156 0.684375)\"/>\n       <use xlink:href=\"#DejaVuSans-30\" transform=\"translate(403.533203 0.684375)\"/>\n       <use xlink:href=\"#DejaVuSans-2212\" transform=\"translate(468.113281 38.965625)scale(0.7)\"/>\n       <use xlink:href=\"#DejaVuSans-31\" transform=\"translate(526.765625 38.965625)scale(0.7)\"/>\n      </g>\n     </g>\n    </g>\n    <g id=\"ytick_6\">\n     <g id=\"line2d_16\">\n      <g>\n       <use xlink:href=\"#m2e61a5c5cb\" x=\"84.278125\" y=\"47.000845\" style=\"stroke: #000000; stroke-width: 0.6\"/>\n      </g>\n     </g>\n     <g id=\"text_12\">\n      <!-- $\\mathdefault{3.26\\times10^{-1}}$ -->\n      <g transform=\"translate(21.378125 50.800063)scale(0.1 -0.1)\">\n       <use xlink:href=\"#DejaVuSans-33\" transform=\"translate(0 0.684375)\"/>\n       <use xlink:href=\"#DejaVuSans-2e\" transform=\"translate(63.623047 0.684375)\"/>\n       <use xlink:href=\"#DejaVuSans-32\" transform=\"translate(89.910156 0.684375)\"/>\n       <use xlink:href=\"#DejaVuSans-36\" transform=\"translate(153.533203 0.684375)\"/>\n       <use xlink:href=\"#DejaVuSans-d7\" transform=\"translate(236.638672 0.684375)\"/>\n       <use xlink:href=\"#DejaVuSans-31\" transform=\"translate(339.910156 0.684375)\"/>\n       <use xlink:href=\"#DejaVuSans-30\" transform=\"translate(403.533203 0.684375)\"/>\n       <use xlink:href=\"#DejaVuSans-2212\" transform=\"translate(468.113281 38.965625)scale(0.7)\"/>\n       <use xlink:href=\"#DejaVuSans-31\" transform=\"translate(526.765625 38.965625)scale(0.7)\"/>\n      </g>\n     </g>\n    </g>\n    <g id=\"ytick_7\">\n     <g id=\"line2d_17\">\n      <g>\n       <use xlink:href=\"#m2e61a5c5cb\" x=\"84.278125\" y=\"28.964487\" style=\"stroke: #000000; stroke-width: 0.6\"/>\n      </g>\n     </g>\n     <g id=\"text_13\">\n      <!-- $\\mathdefault{3.28\\times10^{-1}}$ -->\n      <g transform=\"translate(21.378125 32.763706)scale(0.1 -0.1)\">\n       <use xlink:href=\"#DejaVuSans-33\" transform=\"translate(0 0.684375)\"/>\n       <use xlink:href=\"#DejaVuSans-2e\" transform=\"translate(63.623047 0.684375)\"/>\n       <use xlink:href=\"#DejaVuSans-32\" transform=\"translate(89.910156 0.684375)\"/>\n       <use xlink:href=\"#DejaVuSans-38\" transform=\"translate(153.533203 0.684375)\"/>\n       <use xlink:href=\"#DejaVuSans-d7\" transform=\"translate(236.638672 0.684375)\"/>\n       <use xlink:href=\"#DejaVuSans-31\" transform=\"translate(339.910156 0.684375)\"/>\n       <use xlink:href=\"#DejaVuSans-30\" transform=\"translate(403.533203 0.684375)\"/>\n       <use xlink:href=\"#DejaVuSans-2212\" transform=\"translate(468.113281 38.965625)scale(0.7)\"/>\n       <use xlink:href=\"#DejaVuSans-31\" transform=\"translate(526.765625 38.965625)scale(0.7)\"/>\n      </g>\n     </g>\n    </g>\n    <g id=\"ytick_8\">\n     <g id=\"line2d_18\">\n      <g>\n       <use xlink:href=\"#m2e61a5c5cb\" x=\"84.278125\" y=\"11.037774\" style=\"stroke: #000000; stroke-width: 0.6\"/>\n      </g>\n     </g>\n     <g id=\"text_14\">\n      <!-- $\\mathdefault{3.3\\times10^{-1}}$ -->\n      <g transform=\"translate(27.278125 14.836992)scale(0.1 -0.1)\">\n       <use xlink:href=\"#DejaVuSans-33\" transform=\"translate(0 0.684375)\"/>\n       <use xlink:href=\"#DejaVuSans-2e\" transform=\"translate(63.623047 0.684375)\"/>\n       <use xlink:href=\"#DejaVuSans-33\" transform=\"translate(95.410156 0.684375)\"/>\n       <use xlink:href=\"#DejaVuSans-d7\" transform=\"translate(178.515625 0.684375)\"/>\n       <use xlink:href=\"#DejaVuSans-31\" transform=\"translate(281.787109 0.684375)\"/>\n       <use xlink:href=\"#DejaVuSans-30\" transform=\"translate(345.410156 0.684375)\"/>\n       <use xlink:href=\"#DejaVuSans-2212\" transform=\"translate(409.990234 38.965625)scale(0.7)\"/>\n       <use xlink:href=\"#DejaVuSans-31\" transform=\"translate(468.642578 38.965625)scale(0.7)\"/>\n      </g>\n     </g>\n    </g>\n    <g id=\"text_15\">\n     <!-- rmse -->\n     <g transform=\"translate(14.798437 89.019531)rotate(-90)scale(0.1 -0.1)\">\n      <defs>\n       <path id=\"DejaVuSans-72\" d=\"M 2631 2963 \nQ 2534 3019 2420 3045 \nQ 2306 3072 2169 3072 \nQ 1681 3072 1420 2755 \nQ 1159 2438 1159 1844 \nL 1159 0 \nL 581 0 \nL 581 3500 \nL 1159 3500 \nL 1159 2956 \nQ 1341 3275 1631 3429 \nQ 1922 3584 2338 3584 \nQ 2397 3584 2469 3576 \nQ 2541 3569 2628 3553 \nL 2631 2963 \nz\n\" transform=\"scale(0.015625)\"/>\n       <path id=\"DejaVuSans-6d\" d=\"M 3328 2828 \nQ 3544 3216 3844 3400 \nQ 4144 3584 4550 3584 \nQ 5097 3584 5394 3201 \nQ 5691 2819 5691 2113 \nL 5691 0 \nL 5113 0 \nL 5113 2094 \nQ 5113 2597 4934 2840 \nQ 4756 3084 4391 3084 \nQ 3944 3084 3684 2787 \nQ 3425 2491 3425 1978 \nL 3425 0 \nL 2847 0 \nL 2847 2094 \nQ 2847 2600 2669 2842 \nQ 2491 3084 2119 3084 \nQ 1678 3084 1418 2786 \nQ 1159 2488 1159 1978 \nL 1159 0 \nL 581 0 \nL 581 3500 \nL 1159 3500 \nL 1159 2956 \nQ 1356 3278 1631 3431 \nQ 1906 3584 2284 3584 \nQ 2666 3584 2933 3390 \nQ 3200 3197 3328 2828 \nz\n\" transform=\"scale(0.015625)\"/>\n       <path id=\"DejaVuSans-73\" d=\"M 2834 3397 \nL 2834 2853 \nQ 2591 2978 2328 3040 \nQ 2066 3103 1784 3103 \nQ 1356 3103 1142 2972 \nQ 928 2841 928 2578 \nQ 928 2378 1081 2264 \nQ 1234 2150 1697 2047 \nL 1894 2003 \nQ 2506 1872 2764 1633 \nQ 3022 1394 3022 966 \nQ 3022 478 2636 193 \nQ 2250 -91 1575 -91 \nQ 1294 -91 989 -36 \nQ 684 19 347 128 \nL 347 722 \nQ 666 556 975 473 \nQ 1284 391 1588 391 \nQ 1994 391 2212 530 \nQ 2431 669 2431 922 \nQ 2431 1156 2273 1281 \nQ 2116 1406 1581 1522 \nL 1381 1569 \nQ 847 1681 609 1914 \nQ 372 2147 372 2553 \nQ 372 3047 722 3315 \nQ 1072 3584 1716 3584 \nQ 2034 3584 2315 3537 \nQ 2597 3491 2834 3397 \nz\n\" transform=\"scale(0.015625)\"/>\n      </defs>\n      <use xlink:href=\"#DejaVuSans-72\"/>\n      <use xlink:href=\"#DejaVuSans-6d\" x=\"39.363281\"/>\n      <use xlink:href=\"#DejaVuSans-73\" x=\"136.775391\"/>\n      <use xlink:href=\"#DejaVuSans-65\" x=\"188.875\"/>\n     </g>\n    </g>\n   </g>\n   <g id=\"line2d_19\">\n    <path d=\"M 84.278125 135.59921 \nL 86.250852 138.847749 \nL 88.22358 135.196415 \nL 90.196307 138.700908 \nL 92.169034 139.5 \nL 94.141761 137.265977 \nL 96.114489 137.802778 \nL 98.087216 136.333828 \nL 100.059943 134.102202 \nL 102.03267 135.551705 \nL 104.005398 139.270792 \nL 105.978125 137.289049 \nL 107.950852 136.588375 \nL 109.92358 138.429772 \nL 111.896307 136.893527 \nL 113.869034 136.916873 \nL 115.841761 137.772196 \nL 117.814489 137.616235 \nL 119.787216 137.151458 \nL 121.759943 137.776367 \nL 123.73267 134.3224 \nL 125.705398 137.237347 \nL 127.678125 132.686159 \nL 129.650852 132.018487 \nL 131.62358 134.847 \nL 133.596307 137.10365 \nL 135.569034 133.225735 \nL 137.541761 135.242525 \nL 139.514489 135.740062 \nL 141.487216 135.975387 \nL 143.459943 135.807852 \nL 145.43267 132.150011 \nL 147.405398 132.03236 \nL 149.378125 132.922628 \nL 151.350852 132.600124 \nL 153.32358 133.477515 \nL 155.296307 131.377875 \nL 157.269034 131.195066 \nL 159.241761 133.372026 \nL 161.214489 135.036146 \nL 163.187216 132.175817 \nL 165.159943 133.815107 \nL 167.13267 128.566542 \nL 169.105398 130.316967 \nL 171.078125 131.171488 \nL 173.050852 130.931831 \nL 175.02358 132.284594 \nL 176.996307 130.084312 \nL 178.969034 129.240918 \nL 180.941761 127.384747 \nL 182.914489 133.547196 \nL 184.887216 133.335106 \nL 186.859943 129.856666 \nL 188.83267 133.635757 \nL 190.805398 130.008058 \nL 192.778125 131.989352 \nL 194.750852 132.279044 \nL 196.72358 134.600657 \nL 198.696307 128.289685 \nL 200.669034 129.624047 \nL 202.641761 128.64359 \nL 204.614489 130.097067 \nL 206.587216 130.971218 \nL 208.559943 130.366606 \nL 210.53267 130.524681 \nL 212.505398 132.998124 \nL 214.478125 133.717657 \nL 216.450852 131.632549 \nL 218.42358 132.109776 \nL 220.396307 132.225488 \nL 222.369034 131.146245 \nL 224.341761 133.552748 \nL 226.314489 132.025978 \nL 228.287216 133.550805 \nL 230.259943 129.21985 \nL 232.23267 132.221603 \nL 234.205398 132.072039 \nL 236.178125 129.398377 \nL 238.150852 128.883338 \nL 240.12358 134.730908 \nL 242.096307 129.123937 \nL 244.069034 134.789787 \nL 246.041761 135.023647 \nL 248.014489 133.188539 \nL 249.987216 131.979918 \nL 251.959943 130.772903 \nL 253.93267 133.584119 \nL 255.905398 134.202719 \nL 257.878125 136.81932 \nL 259.850852 130.745167 \nL 261.82358 135.293359 \nL 263.796307 136.975795 \nL 265.769034 135.942324 \nL 267.741761 132.236587 \nL 269.714489 132.347031 \nL 271.687216 133.583842 \nL 273.659943 134.088873 \nL 275.63267 133.088056 \nL 277.605398 132.181644 \nL 279.578125 134.407374 \n\" clip-path=\"url(#p02f379efc6)\" style=\"fill: none; stroke: #1f77b4; stroke-width: 1.5; stroke-linecap: square\"/>\n   </g>\n   <g id=\"line2d_20\">\n    <path d=\"M 84.278125 112.408604 \nL 86.250852 114.111677 \nL 88.22358 108.485105 \nL 90.196307 110.374311 \nL 92.169034 109.957596 \nL 94.141761 105.781581 \nL 96.114489 105.207683 \nL 98.087216 102.421177 \nL 100.059943 98.401752 \nL 102.03267 98.495573 \nL 104.005398 101.191325 \nL 105.978125 97.50155 \nL 107.950852 95.4808 \nL 109.92358 95.919868 \nL 111.896307 92.90663 \nL 113.869034 91.810476 \nL 115.841761 91.435785 \nL 117.814489 89.957194 \nL 119.787216 88.309837 \nL 121.759943 87.621797 \nL 123.73267 82.674658 \nL 125.705398 84.618113 \nL 127.678125 78.648522 \nL 129.650852 77.093803 \nL 131.62358 78.189949 \nL 133.596307 79.615765 \nL 135.569034 74.576445 \nL 137.541761 75.366512 \nL 139.514489 75.078275 \nL 141.487216 74.235227 \nL 143.459943 73.223507 \nL 145.43267 67.948549 \nL 147.405398 67.04348 \nL 149.378125 67.033166 \nL 151.350852 65.471807 \nL 153.32358 65.401003 \nL 155.296307 62.197104 \nL 157.269034 61.052981 \nL 159.241761 62.023141 \nL 161.214489 63.033735 \nL 163.187216 58.690553 \nL 165.159943 59.514277 \nL 167.13267 53.376662 \nL 169.105398 54.257007 \nL 171.078125 54.094591 \nL 173.050852 53.110017 \nL 175.02358 53.276431 \nL 176.996307 50.300493 \nL 178.969034 48.523546 \nL 180.941761 45.713806 \nL 182.914489 51.107029 \nL 184.887216 50.182285 \nL 186.859943 45.53219 \nL 188.83267 48.866387 \nL 190.805398 43.905956 \nL 192.778125 44.966933 \nL 194.750852 44.251493 \nL 196.72358 45.786833 \nL 198.696307 38.925895 \nL 200.669034 39.363614 \nL 202.641761 37.644301 \nL 204.614489 38.332336 \nL 206.587216 38.315671 \nL 208.559943 36.88926 \nL 210.53267 36.137367 \nL 212.505398 37.792107 \nL 214.478125 37.83027 \nL 216.450852 34.742078 \nL 218.42358 34.644357 \nL 220.396307 34.004688 \nL 222.369034 31.926925 \nL 224.341761 33.862171 \nL 226.314489 31.281678 \nL 228.287216 32.409209 \nL 230.259943 27.199193 \nL 232.23267 29.451833 \nL 234.205398 28.550999 \nL 236.178125 25.21399 \nL 238.150852 24.182297 \nL 240.12358 29.366079 \nL 242.096307 22.553087 \nL 244.069034 27.646423 \nL 246.041761 27.161704 \nL 248.014489 24.403535 \nL 249.987216 22.496942 \nL 251.959943 20.753498 \nL 253.93267 22.863242 \nL 255.905398 22.816449 \nL 257.878125 24.783182 \nL 259.850852 17.907883 \nL 261.82358 21.585935 \nL 263.796307 22.657627 \nL 265.769034 21.172493 \nL 267.741761 16.806161 \nL 269.714489 16.442481 \nL 271.687216 17.155476 \nL 273.659943 17.024445 \nL 275.63267 15.287699 \nL 277.605398 13.5 \nL 279.578125 14.97034 \n\" clip-path=\"url(#p02f379efc6)\" style=\"fill: none; stroke-dasharray: 5.55,2.4; stroke-dashoffset: 0; stroke: #bf00bf; stroke-width: 1.5\"/>\n   </g>\n   <g id=\"patch_3\">\n    <path d=\"M 84.278125 145.8 \nL 84.278125 7.2 \n\" style=\"fill: none; stroke: #000000; stroke-width: 0.8; stroke-linejoin: miter; stroke-linecap: square\"/>\n   </g>\n   <g id=\"patch_4\">\n    <path d=\"M 279.578125 145.8 \nL 279.578125 7.2 \n\" style=\"fill: none; stroke: #000000; stroke-width: 0.8; stroke-linejoin: miter; stroke-linecap: square\"/>\n   </g>\n   <g id=\"patch_5\">\n    <path d=\"M 84.278125 145.8 \nL 279.578125 145.8 \n\" style=\"fill: none; stroke: #000000; stroke-width: 0.8; stroke-linejoin: miter; stroke-linecap: square\"/>\n   </g>\n   <g id=\"patch_6\">\n    <path d=\"M 84.278125 7.2 \nL 279.578125 7.2 \n\" style=\"fill: none; stroke: #000000; stroke-width: 0.8; stroke-linejoin: miter; stroke-linecap: square\"/>\n   </g>\n   <g id=\"legend_1\">\n    <g id=\"patch_7\">\n     <path d=\"M 91.278125 44.55625 \nL 147.229687 44.55625 \nQ 149.229687 44.55625 149.229687 42.55625 \nL 149.229687 14.2 \nQ 149.229687 12.2 147.229687 12.2 \nL 91.278125 12.2 \nQ 89.278125 12.2 89.278125 14.2 \nL 89.278125 42.55625 \nQ 89.278125 44.55625 91.278125 44.55625 \nz\n\" style=\"fill: #ffffff; opacity: 0.8; stroke: #cccccc; stroke-linejoin: miter\"/>\n    </g>\n    <g id=\"line2d_21\">\n     <path d=\"M 93.278125 20.298438 \nL 103.278125 20.298438 \nL 113.278125 20.298438 \n\" style=\"fill: none; stroke: #1f77b4; stroke-width: 1.5; stroke-linecap: square\"/>\n    </g>\n    <g id=\"text_16\">\n     <!-- train -->\n     <g transform=\"translate(121.278125 23.798438)scale(0.1 -0.1)\">\n      <defs>\n       <path id=\"DejaVuSans-74\" d=\"M 1172 4494 \nL 1172 3500 \nL 2356 3500 \nL 2356 3053 \nL 1172 3053 \nL 1172 1153 \nQ 1172 725 1289 603 \nQ 1406 481 1766 481 \nL 2356 481 \nL 2356 0 \nL 1766 0 \nQ 1100 0 847 248 \nQ 594 497 594 1153 \nL 594 3053 \nL 172 3053 \nL 172 3500 \nL 594 3500 \nL 594 4494 \nL 1172 4494 \nz\n\" transform=\"scale(0.015625)\"/>\n       <path id=\"DejaVuSans-61\" d=\"M 2194 1759 \nQ 1497 1759 1228 1600 \nQ 959 1441 959 1056 \nQ 959 750 1161 570 \nQ 1363 391 1709 391 \nQ 2188 391 2477 730 \nQ 2766 1069 2766 1631 \nL 2766 1759 \nL 2194 1759 \nz\nM 3341 1997 \nL 3341 0 \nL 2766 0 \nL 2766 531 \nQ 2569 213 2275 61 \nQ 1981 -91 1556 -91 \nQ 1019 -91 701 211 \nQ 384 513 384 1019 \nQ 384 1609 779 1909 \nQ 1175 2209 1959 2209 \nL 2766 2209 \nL 2766 2266 \nQ 2766 2663 2505 2880 \nQ 2244 3097 1772 3097 \nQ 1472 3097 1187 3025 \nQ 903 2953 641 2809 \nL 641 3341 \nQ 956 3463 1253 3523 \nQ 1550 3584 1831 3584 \nQ 2591 3584 2966 3190 \nQ 3341 2797 3341 1997 \nz\n\" transform=\"scale(0.015625)\"/>\n       <path id=\"DejaVuSans-69\" d=\"M 603 3500 \nL 1178 3500 \nL 1178 0 \nL 603 0 \nL 603 3500 \nz\nM 603 4863 \nL 1178 4863 \nL 1178 4134 \nL 603 4134 \nL 603 4863 \nz\n\" transform=\"scale(0.015625)\"/>\n       <path id=\"DejaVuSans-6e\" d=\"M 3513 2113 \nL 3513 0 \nL 2938 0 \nL 2938 2094 \nQ 2938 2591 2744 2837 \nQ 2550 3084 2163 3084 \nQ 1697 3084 1428 2787 \nQ 1159 2491 1159 1978 \nL 1159 0 \nL 581 0 \nL 581 3500 \nL 1159 3500 \nL 1159 2956 \nQ 1366 3272 1645 3428 \nQ 1925 3584 2291 3584 \nQ 2894 3584 3203 3211 \nQ 3513 2838 3513 2113 \nz\n\" transform=\"scale(0.015625)\"/>\n      </defs>\n      <use xlink:href=\"#DejaVuSans-74\"/>\n      <use xlink:href=\"#DejaVuSans-72\" x=\"39.208984\"/>\n      <use xlink:href=\"#DejaVuSans-61\" x=\"80.322266\"/>\n      <use xlink:href=\"#DejaVuSans-69\" x=\"141.601562\"/>\n      <use xlink:href=\"#DejaVuSans-6e\" x=\"169.384766\"/>\n     </g>\n    </g>\n    <g id=\"line2d_22\">\n     <path d=\"M 93.278125 34.976563 \nL 103.278125 34.976563 \nL 113.278125 34.976563 \n\" style=\"fill: none; stroke-dasharray: 5.55,2.4; stroke-dashoffset: 0; stroke: #bf00bf; stroke-width: 1.5\"/>\n    </g>\n    <g id=\"text_17\">\n     <!-- valid -->\n     <g transform=\"translate(121.278125 38.476563)scale(0.1 -0.1)\">\n      <defs>\n       <path id=\"DejaVuSans-76\" d=\"M 191 3500 \nL 800 3500 \nL 1894 563 \nL 2988 3500 \nL 3597 3500 \nL 2284 0 \nL 1503 0 \nL 191 3500 \nz\n\" transform=\"scale(0.015625)\"/>\n       <path id=\"DejaVuSans-6c\" d=\"M 603 4863 \nL 1178 4863 \nL 1178 0 \nL 603 0 \nL 603 4863 \nz\n\" transform=\"scale(0.015625)\"/>\n       <path id=\"DejaVuSans-64\" d=\"M 2906 2969 \nL 2906 4863 \nL 3481 4863 \nL 3481 0 \nL 2906 0 \nL 2906 525 \nQ 2725 213 2448 61 \nQ 2172 -91 1784 -91 \nQ 1150 -91 751 415 \nQ 353 922 353 1747 \nQ 353 2572 751 3078 \nQ 1150 3584 1784 3584 \nQ 2172 3584 2448 3432 \nQ 2725 3281 2906 2969 \nz\nM 947 1747 \nQ 947 1113 1208 752 \nQ 1469 391 1925 391 \nQ 2381 391 2643 752 \nQ 2906 1113 2906 1747 \nQ 2906 2381 2643 2742 \nQ 2381 3103 1925 3103 \nQ 1469 3103 1208 2742 \nQ 947 2381 947 1747 \nz\n\" transform=\"scale(0.015625)\"/>\n      </defs>\n      <use xlink:href=\"#DejaVuSans-76\"/>\n      <use xlink:href=\"#DejaVuSans-61\" x=\"59.179688\"/>\n      <use xlink:href=\"#DejaVuSans-6c\" x=\"120.458984\"/>\n      <use xlink:href=\"#DejaVuSans-69\" x=\"148.242188\"/>\n      <use xlink:href=\"#DejaVuSans-64\" x=\"176.025391\"/>\n     </g>\n    </g>\n   </g>\n  </g>\n </g>\n <defs>\n  <clipPath id=\"p02f379efc6\">\n   <rect x=\"84.278125\" y=\"7.2\" width=\"195.3\" height=\"138.6\"/>\n  </clipPath>\n </defs>\n</svg>\n"
     },
     "metadata": {},
     "output_type": "display_data"
    }
   ],
   "source": [
    "k, num_epochs, lr, weight_decay, batch_size = 5, 100, 0.001, 0.009, 1000\n",
    "train_l, valid_l = k_fold(k, train_features, train_labels, num_epochs, lr,\n",
    "                          weight_decay, batch_size)\n",
    "print(f'{k}-折验证: 平均训练log rmse: {float(train_l):f}, '\n",
    "      f'平均验证log rmse: {float(valid_l):f}')"
   ],
   "metadata": {
    "collapsed": false,
    "ExecuteTime": {
     "end_time": "2023-11-18T01:57:04.500343Z",
     "start_time": "2023-11-18T01:37:04.415639Z"
    }
   },
   "id": "38effbdaa3557bba"
  },
  {
   "cell_type": "code",
   "execution_count": 33,
   "outputs": [
    {
     "name": "stdout",
     "output_type": "stream",
     "text": [
      "训练log rmse：0.298213\n"
     ]
    },
    {
     "data": {
      "text/plain": "<Figure size 350x250 with 1 Axes>",
      "image/svg+xml": "<?xml version=\"1.0\" encoding=\"utf-8\" standalone=\"no\"?>\n<!DOCTYPE svg PUBLIC \"-//W3C//DTD SVG 1.1//EN\"\n  \"http://www.w3.org/Graphics/SVG/1.1/DTD/svg11.dtd\">\n<svg xmlns:xlink=\"http://www.w3.org/1999/xlink\" width=\"302.721875pt\" height=\"183.35625pt\" viewBox=\"0 0 302.721875 183.35625\" xmlns=\"http://www.w3.org/2000/svg\" version=\"1.1\">\n <metadata>\n  <rdf:RDF xmlns:dc=\"http://purl.org/dc/elements/1.1/\" xmlns:cc=\"http://creativecommons.org/ns#\" xmlns:rdf=\"http://www.w3.org/1999/02/22-rdf-syntax-ns#\">\n   <cc:Work>\n    <dc:type rdf:resource=\"http://purl.org/dc/dcmitype/StillImage\"/>\n    <dc:date>2023-11-17T20:05:42.190454</dc:date>\n    <dc:format>image/svg+xml</dc:format>\n    <dc:creator>\n     <cc:Agent>\n      <dc:title>Matplotlib v3.5.1, https://matplotlib.org/</dc:title>\n     </cc:Agent>\n    </dc:creator>\n   </cc:Work>\n  </rdf:RDF>\n </metadata>\n <defs>\n  <style type=\"text/css\">*{stroke-linejoin: round; stroke-linecap: butt}</style>\n </defs>\n <g id=\"figure_1\">\n  <g id=\"patch_1\">\n   <path d=\"M -0 183.35625 \nL 302.721875 183.35625 \nL 302.721875 0 \nL -0 0 \nz\n\" style=\"fill: #ffffff\"/>\n  </g>\n  <g id=\"axes_1\">\n   <g id=\"patch_2\">\n    <path d=\"M 90.678125 145.8 \nL 285.978125 145.8 \nL 285.978125 7.2 \nL 90.678125 7.2 \nz\n\" style=\"fill: #ffffff\"/>\n   </g>\n   <g id=\"matplotlib.axis_1\">\n    <g id=\"xtick_1\">\n     <g id=\"line2d_1\">\n      <path d=\"M 128.159943 145.8 \nL 128.159943 7.2 \n\" clip-path=\"url(#pdcaa991f19)\" style=\"fill: none; stroke: #b0b0b0; stroke-width: 0.8; stroke-linecap: square\"/>\n     </g>\n     <g id=\"line2d_2\">\n      <defs>\n       <path id=\"m8e0130b107\" d=\"M 0 0 \nL 0 3.5 \n\" style=\"stroke: #000000; stroke-width: 0.8\"/>\n      </defs>\n      <g>\n       <use xlink:href=\"#m8e0130b107\" x=\"128.159943\" y=\"145.8\" style=\"stroke: #000000; stroke-width: 0.8\"/>\n      </g>\n     </g>\n     <g id=\"text_1\">\n      <!-- 20 -->\n      <g transform=\"translate(121.797443 160.398438)scale(0.1 -0.1)\">\n       <defs>\n        <path id=\"DejaVuSans-32\" d=\"M 1228 531 \nL 3431 531 \nL 3431 0 \nL 469 0 \nL 469 531 \nQ 828 903 1448 1529 \nQ 2069 2156 2228 2338 \nQ 2531 2678 2651 2914 \nQ 2772 3150 2772 3378 \nQ 2772 3750 2511 3984 \nQ 2250 4219 1831 4219 \nQ 1534 4219 1204 4116 \nQ 875 4013 500 3803 \nL 500 4441 \nQ 881 4594 1212 4672 \nQ 1544 4750 1819 4750 \nQ 2544 4750 2975 4387 \nQ 3406 4025 3406 3419 \nQ 3406 3131 3298 2873 \nQ 3191 2616 2906 2266 \nQ 2828 2175 2409 1742 \nQ 1991 1309 1228 531 \nz\n\" transform=\"scale(0.015625)\"/>\n        <path id=\"DejaVuSans-30\" d=\"M 2034 4250 \nQ 1547 4250 1301 3770 \nQ 1056 3291 1056 2328 \nQ 1056 1369 1301 889 \nQ 1547 409 2034 409 \nQ 2525 409 2770 889 \nQ 3016 1369 3016 2328 \nQ 3016 3291 2770 3770 \nQ 2525 4250 2034 4250 \nz\nM 2034 4750 \nQ 2819 4750 3233 4129 \nQ 3647 3509 3647 2328 \nQ 3647 1150 3233 529 \nQ 2819 -91 2034 -91 \nQ 1250 -91 836 529 \nQ 422 1150 422 2328 \nQ 422 3509 836 4129 \nQ 1250 4750 2034 4750 \nz\n\" transform=\"scale(0.015625)\"/>\n       </defs>\n       <use xlink:href=\"#DejaVuSans-32\"/>\n       <use xlink:href=\"#DejaVuSans-30\" x=\"63.623047\"/>\n      </g>\n     </g>\n    </g>\n    <g id=\"xtick_2\">\n     <g id=\"line2d_3\">\n      <path d=\"M 167.614489 145.8 \nL 167.614489 7.2 \n\" clip-path=\"url(#pdcaa991f19)\" style=\"fill: none; stroke: #b0b0b0; stroke-width: 0.8; stroke-linecap: square\"/>\n     </g>\n     <g id=\"line2d_4\">\n      <g>\n       <use xlink:href=\"#m8e0130b107\" x=\"167.614489\" y=\"145.8\" style=\"stroke: #000000; stroke-width: 0.8\"/>\n      </g>\n     </g>\n     <g id=\"text_2\">\n      <!-- 40 -->\n      <g transform=\"translate(161.251989 160.398438)scale(0.1 -0.1)\">\n       <defs>\n        <path id=\"DejaVuSans-34\" d=\"M 2419 4116 \nL 825 1625 \nL 2419 1625 \nL 2419 4116 \nz\nM 2253 4666 \nL 3047 4666 \nL 3047 1625 \nL 3713 1625 \nL 3713 1100 \nL 3047 1100 \nL 3047 0 \nL 2419 0 \nL 2419 1100 \nL 313 1100 \nL 313 1709 \nL 2253 4666 \nz\n\" transform=\"scale(0.015625)\"/>\n       </defs>\n       <use xlink:href=\"#DejaVuSans-34\"/>\n       <use xlink:href=\"#DejaVuSans-30\" x=\"63.623047\"/>\n      </g>\n     </g>\n    </g>\n    <g id=\"xtick_3\">\n     <g id=\"line2d_5\">\n      <path d=\"M 207.069034 145.8 \nL 207.069034 7.2 \n\" clip-path=\"url(#pdcaa991f19)\" style=\"fill: none; stroke: #b0b0b0; stroke-width: 0.8; stroke-linecap: square\"/>\n     </g>\n     <g id=\"line2d_6\">\n      <g>\n       <use xlink:href=\"#m8e0130b107\" x=\"207.069034\" y=\"145.8\" style=\"stroke: #000000; stroke-width: 0.8\"/>\n      </g>\n     </g>\n     <g id=\"text_3\">\n      <!-- 60 -->\n      <g transform=\"translate(200.706534 160.398438)scale(0.1 -0.1)\">\n       <defs>\n        <path id=\"DejaVuSans-36\" d=\"M 2113 2584 \nQ 1688 2584 1439 2293 \nQ 1191 2003 1191 1497 \nQ 1191 994 1439 701 \nQ 1688 409 2113 409 \nQ 2538 409 2786 701 \nQ 3034 994 3034 1497 \nQ 3034 2003 2786 2293 \nQ 2538 2584 2113 2584 \nz\nM 3366 4563 \nL 3366 3988 \nQ 3128 4100 2886 4159 \nQ 2644 4219 2406 4219 \nQ 1781 4219 1451 3797 \nQ 1122 3375 1075 2522 \nQ 1259 2794 1537 2939 \nQ 1816 3084 2150 3084 \nQ 2853 3084 3261 2657 \nQ 3669 2231 3669 1497 \nQ 3669 778 3244 343 \nQ 2819 -91 2113 -91 \nQ 1303 -91 875 529 \nQ 447 1150 447 2328 \nQ 447 3434 972 4092 \nQ 1497 4750 2381 4750 \nQ 2619 4750 2861 4703 \nQ 3103 4656 3366 4563 \nz\n\" transform=\"scale(0.015625)\"/>\n       </defs>\n       <use xlink:href=\"#DejaVuSans-36\"/>\n       <use xlink:href=\"#DejaVuSans-30\" x=\"63.623047\"/>\n      </g>\n     </g>\n    </g>\n    <g id=\"xtick_4\">\n     <g id=\"line2d_7\">\n      <path d=\"M 246.52358 145.8 \nL 246.52358 7.2 \n\" clip-path=\"url(#pdcaa991f19)\" style=\"fill: none; stroke: #b0b0b0; stroke-width: 0.8; stroke-linecap: square\"/>\n     </g>\n     <g id=\"line2d_8\">\n      <g>\n       <use xlink:href=\"#m8e0130b107\" x=\"246.52358\" y=\"145.8\" style=\"stroke: #000000; stroke-width: 0.8\"/>\n      </g>\n     </g>\n     <g id=\"text_4\">\n      <!-- 80 -->\n      <g transform=\"translate(240.16108 160.398438)scale(0.1 -0.1)\">\n       <defs>\n        <path id=\"DejaVuSans-38\" d=\"M 2034 2216 \nQ 1584 2216 1326 1975 \nQ 1069 1734 1069 1313 \nQ 1069 891 1326 650 \nQ 1584 409 2034 409 \nQ 2484 409 2743 651 \nQ 3003 894 3003 1313 \nQ 3003 1734 2745 1975 \nQ 2488 2216 2034 2216 \nz\nM 1403 2484 \nQ 997 2584 770 2862 \nQ 544 3141 544 3541 \nQ 544 4100 942 4425 \nQ 1341 4750 2034 4750 \nQ 2731 4750 3128 4425 \nQ 3525 4100 3525 3541 \nQ 3525 3141 3298 2862 \nQ 3072 2584 2669 2484 \nQ 3125 2378 3379 2068 \nQ 3634 1759 3634 1313 \nQ 3634 634 3220 271 \nQ 2806 -91 2034 -91 \nQ 1263 -91 848 271 \nQ 434 634 434 1313 \nQ 434 1759 690 2068 \nQ 947 2378 1403 2484 \nz\nM 1172 3481 \nQ 1172 3119 1398 2916 \nQ 1625 2713 2034 2713 \nQ 2441 2713 2670 2916 \nQ 2900 3119 2900 3481 \nQ 2900 3844 2670 4047 \nQ 2441 4250 2034 4250 \nQ 1625 4250 1398 4047 \nQ 1172 3844 1172 3481 \nz\n\" transform=\"scale(0.015625)\"/>\n       </defs>\n       <use xlink:href=\"#DejaVuSans-38\"/>\n       <use xlink:href=\"#DejaVuSans-30\" x=\"63.623047\"/>\n      </g>\n     </g>\n    </g>\n    <g id=\"xtick_5\">\n     <g id=\"line2d_9\">\n      <path d=\"M 285.978125 145.8 \nL 285.978125 7.2 \n\" clip-path=\"url(#pdcaa991f19)\" style=\"fill: none; stroke: #b0b0b0; stroke-width: 0.8; stroke-linecap: square\"/>\n     </g>\n     <g id=\"line2d_10\">\n      <g>\n       <use xlink:href=\"#m8e0130b107\" x=\"285.978125\" y=\"145.8\" style=\"stroke: #000000; stroke-width: 0.8\"/>\n      </g>\n     </g>\n     <g id=\"text_5\">\n      <!-- 100 -->\n      <g transform=\"translate(276.434375 160.398438)scale(0.1 -0.1)\">\n       <defs>\n        <path id=\"DejaVuSans-31\" d=\"M 794 531 \nL 1825 531 \nL 1825 4091 \nL 703 3866 \nL 703 4441 \nL 1819 4666 \nL 2450 4666 \nL 2450 531 \nL 3481 531 \nL 3481 0 \nL 794 0 \nL 794 531 \nz\n\" transform=\"scale(0.015625)\"/>\n       </defs>\n       <use xlink:href=\"#DejaVuSans-31\"/>\n       <use xlink:href=\"#DejaVuSans-30\" x=\"63.623047\"/>\n       <use xlink:href=\"#DejaVuSans-30\" x=\"127.246094\"/>\n      </g>\n     </g>\n    </g>\n    <g id=\"text_6\">\n     <!-- epoch -->\n     <g transform=\"translate(173.1 174.076563)scale(0.1 -0.1)\">\n      <defs>\n       <path id=\"DejaVuSans-65\" d=\"M 3597 1894 \nL 3597 1613 \nL 953 1613 \nQ 991 1019 1311 708 \nQ 1631 397 2203 397 \nQ 2534 397 2845 478 \nQ 3156 559 3463 722 \nL 3463 178 \nQ 3153 47 2828 -22 \nQ 2503 -91 2169 -91 \nQ 1331 -91 842 396 \nQ 353 884 353 1716 \nQ 353 2575 817 3079 \nQ 1281 3584 2069 3584 \nQ 2775 3584 3186 3129 \nQ 3597 2675 3597 1894 \nz\nM 3022 2063 \nQ 3016 2534 2758 2815 \nQ 2500 3097 2075 3097 \nQ 1594 3097 1305 2825 \nQ 1016 2553 972 2059 \nL 3022 2063 \nz\n\" transform=\"scale(0.015625)\"/>\n       <path id=\"DejaVuSans-70\" d=\"M 1159 525 \nL 1159 -1331 \nL 581 -1331 \nL 581 3500 \nL 1159 3500 \nL 1159 2969 \nQ 1341 3281 1617 3432 \nQ 1894 3584 2278 3584 \nQ 2916 3584 3314 3078 \nQ 3713 2572 3713 1747 \nQ 3713 922 3314 415 \nQ 2916 -91 2278 -91 \nQ 1894 -91 1617 61 \nQ 1341 213 1159 525 \nz\nM 3116 1747 \nQ 3116 2381 2855 2742 \nQ 2594 3103 2138 3103 \nQ 1681 3103 1420 2742 \nQ 1159 2381 1159 1747 \nQ 1159 1113 1420 752 \nQ 1681 391 2138 391 \nQ 2594 391 2855 752 \nQ 3116 1113 3116 1747 \nz\n\" transform=\"scale(0.015625)\"/>\n       <path id=\"DejaVuSans-6f\" d=\"M 1959 3097 \nQ 1497 3097 1228 2736 \nQ 959 2375 959 1747 \nQ 959 1119 1226 758 \nQ 1494 397 1959 397 \nQ 2419 397 2687 759 \nQ 2956 1122 2956 1747 \nQ 2956 2369 2687 2733 \nQ 2419 3097 1959 3097 \nz\nM 1959 3584 \nQ 2709 3584 3137 3096 \nQ 3566 2609 3566 1747 \nQ 3566 888 3137 398 \nQ 2709 -91 1959 -91 \nQ 1206 -91 779 398 \nQ 353 888 353 1747 \nQ 353 2609 779 3096 \nQ 1206 3584 1959 3584 \nz\n\" transform=\"scale(0.015625)\"/>\n       <path id=\"DejaVuSans-63\" d=\"M 3122 3366 \nL 3122 2828 \nQ 2878 2963 2633 3030 \nQ 2388 3097 2138 3097 \nQ 1578 3097 1268 2742 \nQ 959 2388 959 1747 \nQ 959 1106 1268 751 \nQ 1578 397 2138 397 \nQ 2388 397 2633 464 \nQ 2878 531 3122 666 \nL 3122 134 \nQ 2881 22 2623 -34 \nQ 2366 -91 2075 -91 \nQ 1284 -91 818 406 \nQ 353 903 353 1747 \nQ 353 2603 823 3093 \nQ 1294 3584 2113 3584 \nQ 2378 3584 2631 3529 \nQ 2884 3475 3122 3366 \nz\n\" transform=\"scale(0.015625)\"/>\n       <path id=\"DejaVuSans-68\" d=\"M 3513 2113 \nL 3513 0 \nL 2938 0 \nL 2938 2094 \nQ 2938 2591 2744 2837 \nQ 2550 3084 2163 3084 \nQ 1697 3084 1428 2787 \nQ 1159 2491 1159 1978 \nL 1159 0 \nL 581 0 \nL 581 4863 \nL 1159 4863 \nL 1159 2956 \nQ 1366 3272 1645 3428 \nQ 1925 3584 2291 3584 \nQ 2894 3584 3203 3211 \nQ 3513 2838 3513 2113 \nz\n\" transform=\"scale(0.015625)\"/>\n      </defs>\n      <use xlink:href=\"#DejaVuSans-65\"/>\n      <use xlink:href=\"#DejaVuSans-70\" x=\"61.523438\"/>\n      <use xlink:href=\"#DejaVuSans-6f\" x=\"125\"/>\n      <use xlink:href=\"#DejaVuSans-63\" x=\"186.181641\"/>\n      <use xlink:href=\"#DejaVuSans-68\" x=\"241.162109\"/>\n     </g>\n    </g>\n   </g>\n   <g id=\"matplotlib.axis_2\">\n    <g id=\"ytick_1\">\n     <g id=\"line2d_11\">\n      <defs>\n       <path id=\"m10b5f3cc09\" d=\"M 0 0 \nL -2 0 \n\" style=\"stroke: #000000; stroke-width: 0.6\"/>\n      </defs>\n      <g>\n       <use xlink:href=\"#m10b5f3cc09\" x=\"90.678125\" y=\"127.631984\" style=\"stroke: #000000; stroke-width: 0.6\"/>\n      </g>\n     </g>\n     <g id=\"text_7\">\n      <!-- $\\mathdefault{2.985\\times10^{-1}}$ -->\n      <g transform=\"translate(20.878125 131.431203)scale(0.1 -0.1)\">\n       <defs>\n        <path id=\"DejaVuSans-2e\" d=\"M 684 794 \nL 1344 794 \nL 1344 0 \nL 684 0 \nL 684 794 \nz\n\" transform=\"scale(0.015625)\"/>\n        <path id=\"DejaVuSans-39\" d=\"M 703 97 \nL 703 672 \nQ 941 559 1184 500 \nQ 1428 441 1663 441 \nQ 2288 441 2617 861 \nQ 2947 1281 2994 2138 \nQ 2813 1869 2534 1725 \nQ 2256 1581 1919 1581 \nQ 1219 1581 811 2004 \nQ 403 2428 403 3163 \nQ 403 3881 828 4315 \nQ 1253 4750 1959 4750 \nQ 2769 4750 3195 4129 \nQ 3622 3509 3622 2328 \nQ 3622 1225 3098 567 \nQ 2575 -91 1691 -91 \nQ 1453 -91 1209 -44 \nQ 966 3 703 97 \nz\nM 1959 2075 \nQ 2384 2075 2632 2365 \nQ 2881 2656 2881 3163 \nQ 2881 3666 2632 3958 \nQ 2384 4250 1959 4250 \nQ 1534 4250 1286 3958 \nQ 1038 3666 1038 3163 \nQ 1038 2656 1286 2365 \nQ 1534 2075 1959 2075 \nz\n\" transform=\"scale(0.015625)\"/>\n        <path id=\"DejaVuSans-35\" d=\"M 691 4666 \nL 3169 4666 \nL 3169 4134 \nL 1269 4134 \nL 1269 2991 \nQ 1406 3038 1543 3061 \nQ 1681 3084 1819 3084 \nQ 2600 3084 3056 2656 \nQ 3513 2228 3513 1497 \nQ 3513 744 3044 326 \nQ 2575 -91 1722 -91 \nQ 1428 -91 1123 -41 \nQ 819 9 494 109 \nL 494 744 \nQ 775 591 1075 516 \nQ 1375 441 1709 441 \nQ 2250 441 2565 725 \nQ 2881 1009 2881 1497 \nQ 2881 1984 2565 2268 \nQ 2250 2553 1709 2553 \nQ 1456 2553 1204 2497 \nQ 953 2441 691 2322 \nL 691 4666 \nz\n\" transform=\"scale(0.015625)\"/>\n        <path id=\"DejaVuSans-d7\" d=\"M 4488 3438 \nL 3059 2003 \nL 4488 575 \nL 4116 197 \nL 2681 1631 \nL 1247 197 \nL 878 575 \nL 2303 2003 \nL 878 3438 \nL 1247 3816 \nL 2681 2381 \nL 4116 3816 \nL 4488 3438 \nz\n\" transform=\"scale(0.015625)\"/>\n        <path id=\"DejaVuSans-2212\" d=\"M 678 2272 \nL 4684 2272 \nL 4684 1741 \nL 678 1741 \nL 678 2272 \nz\n\" transform=\"scale(0.015625)\"/>\n       </defs>\n       <use xlink:href=\"#DejaVuSans-32\" transform=\"translate(0 0.684375)\"/>\n       <use xlink:href=\"#DejaVuSans-2e\" transform=\"translate(63.623047 0.684375)\"/>\n       <use xlink:href=\"#DejaVuSans-39\" transform=\"translate(95.410156 0.684375)\"/>\n       <use xlink:href=\"#DejaVuSans-38\" transform=\"translate(159.033203 0.684375)\"/>\n       <use xlink:href=\"#DejaVuSans-35\" transform=\"translate(222.65625 0.684375)\"/>\n       <use xlink:href=\"#DejaVuSans-d7\" transform=\"translate(305.761719 0.684375)\"/>\n       <use xlink:href=\"#DejaVuSans-31\" transform=\"translate(409.033203 0.684375)\"/>\n       <use xlink:href=\"#DejaVuSans-30\" transform=\"translate(472.65625 0.684375)\"/>\n       <use xlink:href=\"#DejaVuSans-2212\" transform=\"translate(537.236328 38.965625)scale(0.7)\"/>\n       <use xlink:href=\"#DejaVuSans-31\" transform=\"translate(595.888672 38.965625)scale(0.7)\"/>\n      </g>\n     </g>\n    </g>\n    <g id=\"ytick_2\">\n     <g id=\"line2d_12\">\n      <g>\n       <use xlink:href=\"#m10b5f3cc09\" x=\"90.678125\" y=\"107.008576\" style=\"stroke: #000000; stroke-width: 0.6\"/>\n      </g>\n     </g>\n     <g id=\"text_8\">\n      <!-- $\\mathdefault{2.99\\times10^{-1}}$ -->\n      <g transform=\"translate(27.278125 110.807795)scale(0.1 -0.1)\">\n       <use xlink:href=\"#DejaVuSans-32\" transform=\"translate(0 0.684375)\"/>\n       <use xlink:href=\"#DejaVuSans-2e\" transform=\"translate(63.623047 0.684375)\"/>\n       <use xlink:href=\"#DejaVuSans-39\" transform=\"translate(95.410156 0.684375)\"/>\n       <use xlink:href=\"#DejaVuSans-39\" transform=\"translate(159.033203 0.684375)\"/>\n       <use xlink:href=\"#DejaVuSans-d7\" transform=\"translate(242.138672 0.684375)\"/>\n       <use xlink:href=\"#DejaVuSans-31\" transform=\"translate(345.410156 0.684375)\"/>\n       <use xlink:href=\"#DejaVuSans-30\" transform=\"translate(409.033203 0.684375)\"/>\n       <use xlink:href=\"#DejaVuSans-2212\" transform=\"translate(473.613281 38.965625)scale(0.7)\"/>\n       <use xlink:href=\"#DejaVuSans-31\" transform=\"translate(532.265625 38.965625)scale(0.7)\"/>\n      </g>\n     </g>\n    </g>\n    <g id=\"ytick_3\">\n     <g id=\"line2d_13\">\n      <g>\n       <use xlink:href=\"#m10b5f3cc09\" x=\"90.678125\" y=\"86.419626\" style=\"stroke: #000000; stroke-width: 0.6\"/>\n      </g>\n     </g>\n     <g id=\"text_9\">\n      <!-- $\\mathdefault{2.995\\times10^{-1}}$ -->\n      <g transform=\"translate(20.878125 90.218845)scale(0.1 -0.1)\">\n       <use xlink:href=\"#DejaVuSans-32\" transform=\"translate(0 0.684375)\"/>\n       <use xlink:href=\"#DejaVuSans-2e\" transform=\"translate(63.623047 0.684375)\"/>\n       <use xlink:href=\"#DejaVuSans-39\" transform=\"translate(95.410156 0.684375)\"/>\n       <use xlink:href=\"#DejaVuSans-39\" transform=\"translate(159.033203 0.684375)\"/>\n       <use xlink:href=\"#DejaVuSans-35\" transform=\"translate(222.65625 0.684375)\"/>\n       <use xlink:href=\"#DejaVuSans-d7\" transform=\"translate(305.761719 0.684375)\"/>\n       <use xlink:href=\"#DejaVuSans-31\" transform=\"translate(409.033203 0.684375)\"/>\n       <use xlink:href=\"#DejaVuSans-30\" transform=\"translate(472.65625 0.684375)\"/>\n       <use xlink:href=\"#DejaVuSans-2212\" transform=\"translate(537.236328 38.965625)scale(0.7)\"/>\n       <use xlink:href=\"#DejaVuSans-31\" transform=\"translate(595.888672 38.965625)scale(0.7)\"/>\n      </g>\n     </g>\n    </g>\n    <g id=\"ytick_4\">\n     <g id=\"line2d_14\">\n      <g>\n       <use xlink:href=\"#m10b5f3cc09\" x=\"90.678125\" y=\"65.86502\" style=\"stroke: #000000; stroke-width: 0.6\"/>\n      </g>\n     </g>\n     <g id=\"text_10\">\n      <!-- $\\mathdefault{3\\times10^{-1}}$ -->\n      <g transform=\"translate(43.178125 69.664239)scale(0.1 -0.1)\">\n       <defs>\n        <path id=\"DejaVuSans-33\" d=\"M 2597 2516 \nQ 3050 2419 3304 2112 \nQ 3559 1806 3559 1356 \nQ 3559 666 3084 287 \nQ 2609 -91 1734 -91 \nQ 1441 -91 1130 -33 \nQ 819 25 488 141 \nL 488 750 \nQ 750 597 1062 519 \nQ 1375 441 1716 441 \nQ 2309 441 2620 675 \nQ 2931 909 2931 1356 \nQ 2931 1769 2642 2001 \nQ 2353 2234 1838 2234 \nL 1294 2234 \nL 1294 2753 \nL 1863 2753 \nQ 2328 2753 2575 2939 \nQ 2822 3125 2822 3475 \nQ 2822 3834 2567 4026 \nQ 2313 4219 1838 4219 \nQ 1578 4219 1281 4162 \nQ 984 4106 628 3988 \nL 628 4550 \nQ 988 4650 1302 4700 \nQ 1616 4750 1894 4750 \nQ 2613 4750 3031 4423 \nQ 3450 4097 3450 3541 \nQ 3450 3153 3228 2886 \nQ 3006 2619 2597 2516 \nz\n\" transform=\"scale(0.015625)\"/>\n       </defs>\n       <use xlink:href=\"#DejaVuSans-33\" transform=\"translate(0 0.684375)\"/>\n       <use xlink:href=\"#DejaVuSans-d7\" transform=\"translate(83.105469 0.684375)\"/>\n       <use xlink:href=\"#DejaVuSans-31\" transform=\"translate(186.376953 0.684375)\"/>\n       <use xlink:href=\"#DejaVuSans-30\" transform=\"translate(250 0.684375)\"/>\n       <use xlink:href=\"#DejaVuSans-2212\" transform=\"translate(314.580078 38.965625)scale(0.7)\"/>\n       <use xlink:href=\"#DejaVuSans-31\" transform=\"translate(373.232422 38.965625)scale(0.7)\"/>\n      </g>\n     </g>\n    </g>\n    <g id=\"ytick_5\">\n     <g id=\"line2d_15\">\n      <g>\n       <use xlink:href=\"#m10b5f3cc09\" x=\"90.678125\" y=\"45.344643\" style=\"stroke: #000000; stroke-width: 0.6\"/>\n      </g>\n     </g>\n     <g id=\"text_11\">\n      <!-- $\\mathdefault{3.005\\times10^{-1}}$ -->\n      <g transform=\"translate(20.878125 49.143861)scale(0.1 -0.1)\">\n       <use xlink:href=\"#DejaVuSans-33\" transform=\"translate(0 0.684375)\"/>\n       <use xlink:href=\"#DejaVuSans-2e\" transform=\"translate(63.623047 0.684375)\"/>\n       <use xlink:href=\"#DejaVuSans-30\" transform=\"translate(95.410156 0.684375)\"/>\n       <use xlink:href=\"#DejaVuSans-30\" transform=\"translate(159.033203 0.684375)\"/>\n       <use xlink:href=\"#DejaVuSans-35\" transform=\"translate(222.65625 0.684375)\"/>\n       <use xlink:href=\"#DejaVuSans-d7\" transform=\"translate(305.761719 0.684375)\"/>\n       <use xlink:href=\"#DejaVuSans-31\" transform=\"translate(409.033203 0.684375)\"/>\n       <use xlink:href=\"#DejaVuSans-30\" transform=\"translate(472.65625 0.684375)\"/>\n       <use xlink:href=\"#DejaVuSans-2212\" transform=\"translate(537.236328 38.965625)scale(0.7)\"/>\n       <use xlink:href=\"#DejaVuSans-31\" transform=\"translate(595.888672 38.965625)scale(0.7)\"/>\n      </g>\n     </g>\n    </g>\n    <g id=\"ytick_6\">\n     <g id=\"line2d_16\">\n      <g>\n       <use xlink:href=\"#m10b5f3cc09\" x=\"90.678125\" y=\"24.858381\" style=\"stroke: #000000; stroke-width: 0.6\"/>\n      </g>\n     </g>\n     <g id=\"text_12\">\n      <!-- $\\mathdefault{3.01\\times10^{-1}}$ -->\n      <g transform=\"translate(27.278125 28.6576)scale(0.1 -0.1)\">\n       <use xlink:href=\"#DejaVuSans-33\" transform=\"translate(0 0.684375)\"/>\n       <use xlink:href=\"#DejaVuSans-2e\" transform=\"translate(63.623047 0.684375)\"/>\n       <use xlink:href=\"#DejaVuSans-30\" transform=\"translate(95.410156 0.684375)\"/>\n       <use xlink:href=\"#DejaVuSans-31\" transform=\"translate(159.033203 0.684375)\"/>\n       <use xlink:href=\"#DejaVuSans-d7\" transform=\"translate(242.138672 0.684375)\"/>\n       <use xlink:href=\"#DejaVuSans-31\" transform=\"translate(345.410156 0.684375)\"/>\n       <use xlink:href=\"#DejaVuSans-30\" transform=\"translate(409.033203 0.684375)\"/>\n       <use xlink:href=\"#DejaVuSans-2212\" transform=\"translate(473.613281 38.965625)scale(0.7)\"/>\n       <use xlink:href=\"#DejaVuSans-31\" transform=\"translate(532.265625 38.965625)scale(0.7)\"/>\n      </g>\n     </g>\n    </g>\n    <g id=\"text_13\">\n     <!-- log rmse -->\n     <g transform=\"translate(14.798437 98.23125)rotate(-90)scale(0.1 -0.1)\">\n      <defs>\n       <path id=\"DejaVuSans-6c\" d=\"M 603 4863 \nL 1178 4863 \nL 1178 0 \nL 603 0 \nL 603 4863 \nz\n\" transform=\"scale(0.015625)\"/>\n       <path id=\"DejaVuSans-67\" d=\"M 2906 1791 \nQ 2906 2416 2648 2759 \nQ 2391 3103 1925 3103 \nQ 1463 3103 1205 2759 \nQ 947 2416 947 1791 \nQ 947 1169 1205 825 \nQ 1463 481 1925 481 \nQ 2391 481 2648 825 \nQ 2906 1169 2906 1791 \nz\nM 3481 434 \nQ 3481 -459 3084 -895 \nQ 2688 -1331 1869 -1331 \nQ 1566 -1331 1297 -1286 \nQ 1028 -1241 775 -1147 \nL 775 -588 \nQ 1028 -725 1275 -790 \nQ 1522 -856 1778 -856 \nQ 2344 -856 2625 -561 \nQ 2906 -266 2906 331 \nL 2906 616 \nQ 2728 306 2450 153 \nQ 2172 0 1784 0 \nQ 1141 0 747 490 \nQ 353 981 353 1791 \nQ 353 2603 747 3093 \nQ 1141 3584 1784 3584 \nQ 2172 3584 2450 3431 \nQ 2728 3278 2906 2969 \nL 2906 3500 \nL 3481 3500 \nL 3481 434 \nz\n\" transform=\"scale(0.015625)\"/>\n       <path id=\"DejaVuSans-20\" transform=\"scale(0.015625)\"/>\n       <path id=\"DejaVuSans-72\" d=\"M 2631 2963 \nQ 2534 3019 2420 3045 \nQ 2306 3072 2169 3072 \nQ 1681 3072 1420 2755 \nQ 1159 2438 1159 1844 \nL 1159 0 \nL 581 0 \nL 581 3500 \nL 1159 3500 \nL 1159 2956 \nQ 1341 3275 1631 3429 \nQ 1922 3584 2338 3584 \nQ 2397 3584 2469 3576 \nQ 2541 3569 2628 3553 \nL 2631 2963 \nz\n\" transform=\"scale(0.015625)\"/>\n       <path id=\"DejaVuSans-6d\" d=\"M 3328 2828 \nQ 3544 3216 3844 3400 \nQ 4144 3584 4550 3584 \nQ 5097 3584 5394 3201 \nQ 5691 2819 5691 2113 \nL 5691 0 \nL 5113 0 \nL 5113 2094 \nQ 5113 2597 4934 2840 \nQ 4756 3084 4391 3084 \nQ 3944 3084 3684 2787 \nQ 3425 2491 3425 1978 \nL 3425 0 \nL 2847 0 \nL 2847 2094 \nQ 2847 2600 2669 2842 \nQ 2491 3084 2119 3084 \nQ 1678 3084 1418 2786 \nQ 1159 2488 1159 1978 \nL 1159 0 \nL 581 0 \nL 581 3500 \nL 1159 3500 \nL 1159 2956 \nQ 1356 3278 1631 3431 \nQ 1906 3584 2284 3584 \nQ 2666 3584 2933 3390 \nQ 3200 3197 3328 2828 \nz\n\" transform=\"scale(0.015625)\"/>\n       <path id=\"DejaVuSans-73\" d=\"M 2834 3397 \nL 2834 2853 \nQ 2591 2978 2328 3040 \nQ 2066 3103 1784 3103 \nQ 1356 3103 1142 2972 \nQ 928 2841 928 2578 \nQ 928 2378 1081 2264 \nQ 1234 2150 1697 2047 \nL 1894 2003 \nQ 2506 1872 2764 1633 \nQ 3022 1394 3022 966 \nQ 3022 478 2636 193 \nQ 2250 -91 1575 -91 \nQ 1294 -91 989 -36 \nQ 684 19 347 128 \nL 347 722 \nQ 666 556 975 473 \nQ 1284 391 1588 391 \nQ 1994 391 2212 530 \nQ 2431 669 2431 922 \nQ 2431 1156 2273 1281 \nQ 2116 1406 1581 1522 \nL 1381 1569 \nQ 847 1681 609 1914 \nQ 372 2147 372 2553 \nQ 372 3047 722 3315 \nQ 1072 3584 1716 3584 \nQ 2034 3584 2315 3537 \nQ 2597 3491 2834 3397 \nz\n\" transform=\"scale(0.015625)\"/>\n      </defs>\n      <use xlink:href=\"#DejaVuSans-6c\"/>\n      <use xlink:href=\"#DejaVuSans-6f\" x=\"27.783203\"/>\n      <use xlink:href=\"#DejaVuSans-67\" x=\"88.964844\"/>\n      <use xlink:href=\"#DejaVuSans-20\" x=\"152.441406\"/>\n      <use xlink:href=\"#DejaVuSans-72\" x=\"184.228516\"/>\n      <use xlink:href=\"#DejaVuSans-6d\" x=\"223.591797\"/>\n      <use xlink:href=\"#DejaVuSans-73\" x=\"321.003906\"/>\n      <use xlink:href=\"#DejaVuSans-65\" x=\"373.103516\"/>\n     </g>\n    </g>\n   </g>\n   <g id=\"line2d_17\">\n    <path d=\"M 90.678125 26.134671 \nL 92.650852 36.651079 \nL 94.62358 51.230196 \nL 96.596307 50.549184 \nL 98.569034 59.853077 \nL 100.541761 30.237627 \nL 102.514489 51.037015 \nL 104.487216 63.913424 \nL 106.459943 51.018675 \nL 108.43267 64.070088 \nL 110.405398 72.710535 \nL 112.378125 64.341808 \nL 114.350852 54.79848 \nL 116.32358 58.519499 \nL 118.296307 50.823052 \nL 120.269034 59.320852 \nL 122.241761 53.105923 \nL 124.214489 52.150905 \nL 126.187216 67.819619 \nL 128.159943 60.113692 \nL 130.13267 33.09537 \nL 132.105398 30.183921 \nL 134.078125 66.818163 \nL 136.050852 46.11436 \nL 138.02358 57.671713 \nL 139.996307 35.282156 \nL 141.969034 22.47343 \nL 143.941761 37.240947 \nL 145.914489 57.663149 \nL 147.887216 15.977131 \nL 149.859943 37.302012 \nL 151.83267 25.827187 \nL 153.805398 47.147135 \nL 155.778125 42.04399 \nL 157.750852 22.974788 \nL 159.72358 30.937047 \nL 161.696307 33.017234 \nL 163.669034 13.5 \nL 165.641761 32.587495 \nL 167.614489 45.843041 \nL 169.587216 15.738173 \nL 171.559943 29.919056 \nL 173.53267 36.399508 \nL 175.505398 30.597707 \nL 177.478125 39.048587 \nL 179.450852 34.708255 \nL 181.42358 39.358844 \nL 183.396307 33.249202 \nL 185.369034 22.294117 \nL 187.341761 47.814513 \nL 189.314489 43.546852 \nL 191.287216 46.572681 \nL 193.259943 40.267672 \nL 195.23267 61.380139 \nL 197.205398 32.675395 \nL 199.178125 52.677929 \nL 201.150852 26.329902 \nL 203.12358 55.589806 \nL 205.096307 35.88417 \nL 207.069034 57.417266 \nL 209.041761 56.24541 \nL 211.014489 36.223656 \nL 212.987216 45.635279 \nL 214.959943 41.991454 \nL 216.93267 40.707452 \nL 218.905398 82.943163 \nL 220.878125 49.302187 \nL 222.850852 62.196362 \nL 224.82358 66.836527 \nL 226.796307 69.710119 \nL 228.769034 48.220336 \nL 230.741761 61.590614 \nL 232.714489 85.453911 \nL 234.687216 67.272359 \nL 236.659943 73.930505 \nL 238.63267 63.53401 \nL 240.605398 68.840747 \nL 242.578125 66.272172 \nL 244.550852 68.747691 \nL 246.52358 84.327198 \nL 248.496307 70.437499 \nL 250.469034 82.538646 \nL 252.441761 63.67843 \nL 254.414489 61.99689 \nL 256.387216 72.605202 \nL 258.359943 78.567739 \nL 260.33267 100.160887 \nL 262.305398 76.289947 \nL 264.278125 90.511287 \nL 266.250852 91.979591 \nL 268.22358 93.293484 \nL 270.196307 93.634555 \nL 272.169034 106.26573 \nL 274.141761 108.620316 \nL 276.114489 105.155533 \nL 278.087216 122.128881 \nL 280.059943 108.847569 \nL 282.03267 114.439314 \nL 284.005398 111.776437 \nL 285.978125 139.5 \n\" clip-path=\"url(#pdcaa991f19)\" style=\"fill: none; stroke: #1f77b4; stroke-width: 1.5; stroke-linecap: square\"/>\n   </g>\n   <g id=\"patch_3\">\n    <path d=\"M 90.678125 145.8 \nL 90.678125 7.2 \n\" style=\"fill: none; stroke: #000000; stroke-width: 0.8; stroke-linejoin: miter; stroke-linecap: square\"/>\n   </g>\n   <g id=\"patch_4\">\n    <path d=\"M 285.978125 145.8 \nL 285.978125 7.2 \n\" style=\"fill: none; stroke: #000000; stroke-width: 0.8; stroke-linejoin: miter; stroke-linecap: square\"/>\n   </g>\n   <g id=\"patch_5\">\n    <path d=\"M 90.678125 145.8 \nL 285.978125 145.8 \n\" style=\"fill: none; stroke: #000000; stroke-width: 0.8; stroke-linejoin: miter; stroke-linecap: square\"/>\n   </g>\n   <g id=\"patch_6\">\n    <path d=\"M 90.678125 7.2 \nL 285.978125 7.2 \n\" style=\"fill: none; stroke: #000000; stroke-width: 0.8; stroke-linejoin: miter; stroke-linecap: square\"/>\n   </g>\n  </g>\n </g>\n <defs>\n  <clipPath id=\"pdcaa991f19\">\n   <rect x=\"90.678125\" y=\"7.2\" width=\"195.3\" height=\"138.6\"/>\n  </clipPath>\n </defs>\n</svg>\n"
     },
     "metadata": {},
     "output_type": "display_data"
    }
   ],
   "source": [
    "def train_and_pred(train_features, test_features, train_labels, test_data,\n",
    "                   num_epochs, lr, weight_decay, batch_size):\n",
    "    #test_features, test_labels设置为None, 因为没有test labels\n",
    "    train_ls, _ = train(net, train_features, train_labels, None, None,\n",
    "                        num_epochs, lr, weight_decay, batch_size)\n",
    "    d2l.plot(np.arange(1, num_epochs + 1), [train_ls], xlabel='epoch',\n",
    "             ylabel='log rmse', xlim=[1, num_epochs], yscale='log')\n",
    "    print(f'训练log rmse：{float(train_ls[-1]):f}')\n",
    "    preds = net(test_features).detach().numpy()             \n",
    "    test_data['Sold Price'] = pd.Series(preds.reshape(1, -1)[0])\n",
    "    submission = pd.concat([test_data['Id'], test_data['Sold Price']], axis=1)\n",
    "    submission.to_csv('submission.csv', index=False)\n",
    "train_and_pred(train_features, test_features, train_labels, test_data,\n",
    "               num_epochs, lr, weight_decay, batch_size)"
   ],
   "metadata": {
    "collapsed": false,
    "ExecuteTime": {
     "end_time": "2023-11-18T02:05:42.355473Z",
     "start_time": "2023-11-18T01:58:53.179725Z"
    }
   },
   "id": "4eb95cc7be482cc8"
  },
  {
   "cell_type": "code",
   "execution_count": null,
   "outputs": [],
   "source": [
    "n_train = train_data.shape[0]\n",
    "n_valid = 10000\n",
    "train_features = torch.tensor(all_features_region[:(n_train-n_valid)].values, dtype=torch.float32)\n",
    "valid_features = torch.tensor(all_features_region[(n_train-n_valid):n_train].values, dtype=torch.float32)\n",
    "test_features = torch.tensor(all_features_region[n_train:].values, dtype=torch.float32)\n",
    "train_labels = torch.tensor(\n",
    "    train_data['Sold Price'][:(n_train-n_valid)].values.reshape(-1, 1), dtype=torch.float32\n",
    ")\n",
    "valid_labels = torch.tensor(\n",
    "    train_data['Sold Price'][(n_train-n_valid):n_train].values.reshape(-1, 1), dtype=torch.float32)\n",
    "    \n",
    "train_features.shape, valid_features.shape, test_features.shape, train_labels.shape, valid_labels.shape"
   ],
   "metadata": {
    "collapsed": false
   },
   "id": "9ac61d56c1f71cb5"
  },
  {
   "cell_type": "code",
   "execution_count": null,
   "outputs": [],
   "source": [
    "def train(net, train_features, train_labels, valid_features, valid_labels, num_epochs, learning_rate, weigt_decay, batch_size):\n",
    "    train_ls, valid_ls = [], []\n",
    "    train_iter = d2l.load_array((train_features, train_labels), batch_size)\n",
    "    if valid_labels is not None: \n",
    "        valid_iter = d2l.load_array((valid_features, valid_labels), batch_size)\n",
    "    optimizer=torch.optim.Adam(net.parameters(),\n",
    "                               lr = learning_rate,\n",
    "                               weight_decay=weigt_decay)\n",
    "    for epoch in range(num_epochs):\n",
    "        for X, y in train_iter:\n",
    "            optimizer.zero_grad()\n",
    "            l = loss(net(X), y)\n",
    "            l.backward()\n",
    "            optimizer.step()\n",
    "        train_ls.append(log_rmse(net, train_features, train_labels))\n",
    "        if valid_labels is not None:\n",
    "            valid_ls.append(log_rmse(net, valid_features, valid_labels))\n",
    "        if epoch==0 or (epoch+1)%10 == 0:\n",
    "            print(f'epoch{epoch + 1}，train log rmse:{float(train_ls[-1]):f}, '\n",
    "                  f'valid log rmse:{float(valid_ls[-1]):f}')\n",
    "    if valid_labels is not None:       \n",
    "        d2l.plot(list(range(1, num_epochs + 1)), [train_ls, valid_ls],\n",
    "                     xlabel='epoch', ylabel='rmse', xlim=[1, num_epochs],\n",
    "                     legend=['train', 'valid'], yscale='log')\n",
    "        "
   ],
   "metadata": {
    "collapsed": false
   },
   "id": "91635225f9a213f"
  },
  {
   "cell_type": "code",
   "execution_count": null,
   "outputs": [],
   "source": [
    "num_epochs, lr, weight_decay, batch_size = 50, 0.006, 0.0001, 1000\n",
    "train(net, train_features, train_labels, valid_features, valid_labels, num_epochs, lr, weight_decay, batch_size)"
   ],
   "metadata": {
    "collapsed": false
   },
   "id": "a9455b2e9c9a56d5"
  },
  {
   "cell_type": "code",
   "execution_count": null,
   "outputs": [],
   "source": [
    "def train_and_pred(train_features, test_features, train_labels, test_data,\n",
    "                   num_epochs, lr, weight_decay, batch_size):\n",
    "    #test_features, test_labels设置为None, 因为没有test labels\n",
    "    train_ls, _ = train(net, train_features, train_labels, None, None,\n",
    "                        num_epochs, lr, weight_decay, batch_size)\n",
    "    d2l.plot(np.arange(1, num_epochs + 1), [train_ls], xlabel='epoch',\n",
    "             ylabel='log rmse', xlim=[1, num_epochs], yscale='log')\n",
    "    print(f'训练log rmse：{float(train_ls[-1]):f}')\n",
    "    \n",
    "    # 预测测试集\n",
    "    net.eval()  # 设置为评估模式\n",
    "    preds = net(test_features).detach().numpy()\n",
    "    test_data['SalePrice'] = pd.Series(preds.reshape(1, -1)[0])\n",
    "    \n",
    "    # 创建提交文件\n",
    "    submission = pd.concat([test_data['Id'], test_data['SalePrice']], axis=1)\n",
    "    submission.to_csv('submission.csv', index=False)\n",
    "\n",
    "train_and_pred(train_features, test_features, train_labels, test_data,\n",
    "               num_epochs, lr, weight_decay, batch_size)"
   ],
   "metadata": {
    "collapsed": false
   },
   "id": "1091863353c4abf5"
  },
  {
   "cell_type": "markdown",
   "source": [
    "1. 是否所有的数值型数据都需要进行标准化？对于那些极度右偏的数据log transformation后仍旧右偏怎么办？对于那些极值应该怎么处理？\n",
    "2. 对于Bedrooms列这种数据类型混合（既有数值型又有string）应该怎么处理？我只是粗暴的直接drop,是否需要手动核实并且填充数据？\n",
    "3. 对于zipcodes怎么处理？\n",
    "4. 对于listed On and Last Sold On这样的日期怎么处理？\n",
    "5. log rmse为大量的nan，应该怎么进行处理？\n",
    "A:这通常发生在模型的预测中有些值不是有效的数字（NaN 或无穷），或者在计算损失时使用了不恰当的值。在您的情况中，这可能是由于几个原因：\n",
    "数据预处理：确保所有的输入特征都已正确处理，并且没有包含无效值（如 NaN）。\n",
    "标签的处理：torch.log(labels) 在 labels 包含 0 或负数时会产生 NaN。确保所有的 labels 值都是大于 0 的，因为对 0 或负数取对数是未定义的。\n",
    "模型的预测：torch.clamp(net(features), 1, float('inf')) 确保了预测值至少为 1，以避免在取对数时出现 NaN。但如果模型预测出了非常大的值，那么对数可能会超出 float 类型的范围，导致无穷大或 NaN。\n",
    "学习率和权重衰减：过高的学习率或不适当的权重衰减可能导致模型参数更新过猛，从而产生数值不稳定。\n",
    "初始化问题：模型权重的初始值可能过大或过小，导致激活函数输出数值不稳定。\n",
    "针对这些可能的问题，我们可以采取以下几步来调试和修正代码：\n",
    "解决方法：\n",
    "验证标签值：确保所有 train_labels 和 valid_labels 都是正数。\n",
    "调整模型参数初始化：使用适当的初始化策略，例如 He 初始化或 Xavier 初始化。\n",
    "检查输入特征：确保没有无效值，特别是在转换 all_features_region 为张量之后。（这里出现了问题）\n",
    "使用更小的学习率：尝试一个更小的学习率来开始训练。\n",
    "调整权重衰减：权重衰减太高可能导致模型参数快速衰减到 0，从而影响模型的学习过程。"
   ],
   "metadata": {
    "collapsed": false
   },
   "id": "952c2a24c8e632ae"
  },
  {
   "cell_type": "code",
   "execution_count": null,
   "outputs": [],
   "source": [],
   "metadata": {
    "collapsed": false
   },
   "id": "d9678fdf74749388"
  }
 ],
 "metadata": {
  "kernelspec": {
   "display_name": "Python 3",
   "language": "python",
   "name": "python3"
  },
  "language_info": {
   "codemirror_mode": {
    "name": "ipython",
    "version": 2
   },
   "file_extension": ".py",
   "mimetype": "text/x-python",
   "name": "python",
   "nbconvert_exporter": "python",
   "pygments_lexer": "ipython2",
   "version": "2.7.6"
  }
 },
 "nbformat": 4,
 "nbformat_minor": 5
}
